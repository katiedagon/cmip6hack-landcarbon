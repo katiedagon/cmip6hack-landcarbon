{
 "cells": [
  {
   "cell_type": "markdown",
   "metadata": {},
   "source": [
    "## Import CMIP6 output"
   ]
  },
  {
   "cell_type": "code",
   "execution_count": 2,
   "metadata": {},
   "outputs": [
    {
     "name": "stderr",
     "output_type": "stream",
     "text": [
      "/ncar/usr/jupyterhub/envs/cmip6-201910a/lib/python3.7/site-packages/intake/source/discovery.py:136: FutureWarning: The drivers ['stac-catalog', 'stac-collection', 'stac-item'] do not specify entry_points and were only discovered via a package scan. This may break in a future release of intake. The packages should be updated.\n",
      "  FutureWarning)\n"
     ]
    }
   ],
   "source": [
    "import intake"
   ]
  },
  {
   "cell_type": "code",
   "execution_count": 3,
   "metadata": {},
   "outputs": [],
   "source": [
    "catalog = intake.open_esm_datastore(\"../catalogs/pangeo-cmip6.json\")"
   ]
  },
  {
   "cell_type": "code",
   "execution_count": 4,
   "metadata": {},
   "outputs": [
    {
     "data": {
      "text/plain": [
       "pangeo-cmip6-ESM Collection with 65 entries:\n",
       "\t> 1 activity_id(s)\n",
       "\n",
       "\t> 6 institution_id(s)\n",
       "\n",
       "\t> 7 source_id(s)\n",
       "\n",
       "\t> 1 experiment_id(s)\n",
       "\n",
       "\t> 56 member_id(s)\n",
       "\n",
       "\t> 1 table_id(s)\n",
       "\n",
       "\t> 1 variable_id(s)\n",
       "\n",
       "\t> 2 grid_label(s)\n",
       "\n",
       "\t> 65 zstore(s)\n",
       "\n",
       "\t> 0 dcpp_init_year(s)"
      ]
     },
     "execution_count": 4,
     "metadata": {},
     "output_type": "execute_result"
    }
   ],
   "source": [
    "sr_ssp_nbp = catalog.search(experiment_id='ssp585', variable_id='nbp')\n",
    "sr_ssp_nbp"
   ]
  },
  {
   "cell_type": "code",
   "execution_count": 5,
   "metadata": {},
   "outputs": [
    {
     "data": {
      "text/plain": [
       "{'source_id': {'count': 7,\n",
       "  'values': ['CanESM5',\n",
       "   'CNRM-ESM2-1',\n",
       "   'IPSL-CM6A-LR',\n",
       "   'MIROC-ES2L',\n",
       "   'UKESM1-0-LL',\n",
       "   'CESM2-WACCM',\n",
       "   'CESM2']}}"
      ]
     },
     "execution_count": 5,
     "metadata": {},
     "output_type": "execute_result"
    }
   ],
   "source": [
    "sr_ssp_nbp.unique('source_id')"
   ]
  },
  {
   "cell_type": "code",
   "execution_count": 6,
   "metadata": {},
   "outputs": [
    {
     "data": {
      "text/plain": [
       "pangeo-cmip6-ESM Collection with 52 entries:\n",
       "\t> 1 activity_id(s)\n",
       "\n",
       "\t> 2 institution_id(s)\n",
       "\n",
       "\t> 2 source_id(s)\n",
       "\n",
       "\t> 1 experiment_id(s)\n",
       "\n",
       "\t> 50 member_id(s)\n",
       "\n",
       "\t> 1 table_id(s)\n",
       "\n",
       "\t> 1 variable_id(s)\n",
       "\n",
       "\t> 1 grid_label(s)\n",
       "\n",
       "\t> 52 zstore(s)\n",
       "\n",
       "\t> 0 dcpp_init_year(s)"
      ]
     },
     "execution_count": 6,
     "metadata": {},
     "output_type": "execute_result"
    }
   ],
   "source": [
    "sr_ssp_nbp_models = catalog.search(experiment_id='ssp585', variable_id='nbp', source_id=['CanESM5', 'CESM2'])\n",
    "sr_ssp_nbp_models"
   ]
  },
  {
   "cell_type": "code",
   "execution_count": 7,
   "metadata": {},
   "outputs": [
    {
     "data": {
      "text/plain": [
       "{'member_id': {'count': 2, 'values': ['r1i1p1f1', 'r2i1p1f1']}}"
      ]
     },
     "execution_count": 7,
     "metadata": {},
     "output_type": "execute_result"
    }
   ],
   "source": [
    "sr_ssp_nbp_models.search(source_id='CESM2').unique('member_id') # only two ensemble members for CESM2"
   ]
  },
  {
   "cell_type": "code",
   "execution_count": 23,
   "metadata": {},
   "outputs": [
    {
     "data": {
      "text/plain": [
       "pangeo-cmip6-ESM Collection with 5 entries:\n",
       "\t> 1 activity_id(s)\n",
       "\n",
       "\t> 2 institution_id(s)\n",
       "\n",
       "\t> 2 source_id(s)\n",
       "\n",
       "\t> 1 experiment_id(s)\n",
       "\n",
       "\t> 3 member_id(s)\n",
       "\n",
       "\t> 1 table_id(s)\n",
       "\n",
       "\t> 1 variable_id(s)\n",
       "\n",
       "\t> 1 grid_label(s)\n",
       "\n",
       "\t> 5 zstore(s)\n",
       "\n",
       "\t> 0 dcpp_init_year(s)"
      ]
     },
     "execution_count": 23,
     "metadata": {},
     "output_type": "execute_result"
    }
   ],
   "source": [
    "sr_ssp_nbp_models_mems = catalog.search(experiment_id='ssp585', \n",
    "                                        variable_id='nbp', source_id=['CanESM5', 'CESM2'],\n",
    "                                        member_id = ['r1i1p1f1', 'r2i1p1f1', 'r3i1p1f1'])\n",
    "#sr_ssp_nbp_models_mems.search(source_id='CanESM5').unique('member_id')\n",
    "sr_ssp_nbp_models_mems"
   ]
  },
  {
   "cell_type": "code",
   "execution_count": 11,
   "metadata": {},
   "outputs": [
    {
     "data": {
      "text/plain": [
       "{'variable_id': {'count': 1, 'values': ['areacella']}}"
      ]
     },
     "execution_count": 11,
     "metadata": {},
     "output_type": "execute_result"
    }
   ],
   "source": [
    "sr_fx = catalog.search(table_id = ['fx'], source_id = ['CanESM5','CESM2'], \n",
    "                       experiment_id='ssp585'), member_id = ['r1i1p1f1', 'r2i1p1f1', 'r3i1p1f1'])\n",
    "sr_fx.unique('variable_id')"
   ]
  },
  {
   "cell_type": "code",
   "execution_count": null,
   "metadata": {},
   "outputs": [],
   "source": [
    "sr_fx_ctrl_vars = catalog.search(table_id = ['fx'], source_id = ['CanESM5','CESM2'], \n",
    "                                 member_id = ['r1i1p1f1', 'r2i1p1f1', 'r3i1p1f1'], \n",
    "                                 experiment_id = 'historical', variable_id = ['areacella', 'sftlf'])\n",
    "sr_fx_ctrl_vars"
   ]
  },
  {
   "cell_type": "code",
   "execution_count": 13,
   "metadata": {},
   "outputs": [
    {
     "name": "stdout",
     "output_type": "stream",
     "text": [
      "--> The keys in the returned dictionary of datasets are constructed as follows:\n",
      "\t'activity_id.institution_id.source_id.experiment_id.table_id.grid_label'\n",
      "\n",
      "--> There will be 2 group(s)\n"
     ]
    }
   ],
   "source": [
    "fx_ds = sr_fx_ctrl_vars.to_dataset_dict()"
   ]
  },
  {
   "cell_type": "code",
   "execution_count": 14,
   "metadata": {},
   "outputs": [
    {
     "data": {
      "text/plain": [
       "dict_keys(['CMIP.CCCma.CanESM5.historical.fx.gn', 'CMIP.NCAR.CESM2.historical.fx.gn'])"
      ]
     },
     "execution_count": 14,
     "metadata": {},
     "output_type": "execute_result"
    }
   ],
   "source": [
    "fx_ds.keys()"
   ]
  },
  {
   "cell_type": "code",
   "execution_count": 16,
   "metadata": {},
   "outputs": [
    {
     "data": {
      "text/plain": [
       "'%'"
      ]
     },
     "execution_count": 16,
     "metadata": {},
     "output_type": "execute_result"
    }
   ],
   "source": [
    "fx_ds_cesm = fx_ds['CMIP.NCAR.CESM2.historical.fx.gn']\n",
    "landfrac_cesm = fx_ds_cesm.sftlf\n",
    "area_cesm = fx_ds_cesm.areacella\n",
    "#area_cesm.units # area in m^2\n",
    "#landfrac_cesm.units # landfrac in % so divide by 100 to get frac\n",
    "#landfrac_cesm.values"
   ]
  },
  {
   "cell_type": "code",
   "execution_count": 17,
   "metadata": {},
   "outputs": [],
   "source": [
    "landfrac_cesm_frac = landfrac_cesm / 100\n",
    "#landfrac_cesm_frac.values"
   ]
  },
  {
   "cell_type": "code",
   "execution_count": 19,
   "metadata": {},
   "outputs": [
    {
     "data": {
      "text/plain": [
       "'%'"
      ]
     },
     "execution_count": 19,
     "metadata": {},
     "output_type": "execute_result"
    }
   ],
   "source": [
    "fx_ds_canesm = fx_ds['CMIP.CCCma.CanESM5.historical.fx.gn']\n",
    "landfrac_canesm = fx_ds_canesm.sftlf\n",
    "area_canesm = fx_ds_canesm.areacella\n",
    "#area_canesm.units # area in m^2\n",
    "#landfrac_canesm.units # landfrac in % so divide by 100 to get frac\n",
    "#landfrac_canesm.values"
   ]
  },
  {
   "cell_type": "code",
   "execution_count": 22,
   "metadata": {},
   "outputs": [],
   "source": [
    "landfrac_canesm_frac = landfrac_canesm / 100\n",
    "#landfrac_canesm_frac.values"
   ]
  },
  {
   "cell_type": "code",
   "execution_count": 24,
   "metadata": {},
   "outputs": [
    {
     "name": "stdout",
     "output_type": "stream",
     "text": [
      "--> The keys in the returned dictionary of datasets are constructed as follows:\n",
      "\t'activity_id.institution_id.source_id.experiment_id.table_id.grid_label'\n",
      "\n",
      "--> There will be 2 group(s)\n"
     ]
    }
   ],
   "source": [
    "ssp_nbp_ds = sr_ssp_nbp_models_mems.to_dataset_dict()"
   ]
  },
  {
   "cell_type": "code",
   "execution_count": 25,
   "metadata": {},
   "outputs": [
    {
     "data": {
      "text/plain": [
       "dict_keys(['ScenarioMIP.CCCma.CanESM5.ssp585.Lmon.gn', 'ScenarioMIP.NCAR.CESM2.ssp585.Lmon.gn'])"
      ]
     },
     "execution_count": 25,
     "metadata": {},
     "output_type": "execute_result"
    }
   ],
   "source": [
    "ssp_nbp_ds.keys()"
   ]
  },
  {
   "cell_type": "code",
   "execution_count": 27,
   "metadata": {},
   "outputs": [],
   "source": [
    "nbp_ds_canesm = ssp_nbp_ds['ScenarioMIP.CCCma.CanESM5.ssp585.Lmon.gn']\n",
    "nbp_canesm = nbp_ds_canesm.nbp\n",
    "nbp_cesm = ssp_nbp_ds['ScenarioMIP.NCAR.CESM2.ssp585.Lmon.gn'].nbp"
   ]
  },
  {
   "cell_type": "code",
   "execution_count": 28,
   "metadata": {},
   "outputs": [
    {
     "data": {
      "text/plain": [
       "array([-2.7006740e-16,  2.9363469e-17, -2.1477115e-16, ...,\n",
       "       -6.4855015e-16, -6.5682937e-16,  4.5579129e-16], dtype=float32)"
      ]
     },
     "execution_count": 28,
     "metadata": {},
     "output_type": "execute_result"
    }
   ],
   "source": [
    "nbp_canesm.sel(lat='-50', lon='90', method='nearest')[0,:].values"
   ]
  },
  {
   "cell_type": "code",
   "execution_count": 29,
   "metadata": {},
   "outputs": [
    {
     "data": {
      "text/plain": [
       "array([nan, nan, nan, ..., nan, nan, nan], dtype=float32)"
      ]
     },
     "execution_count": 29,
     "metadata": {},
     "output_type": "execute_result"
    }
   ],
   "source": [
    "nbp_cesm.sel(lat='-50', lon='90', method='nearest')[0,:].values"
   ]
  },
  {
   "cell_type": "code",
   "execution_count": 30,
   "metadata": {},
   "outputs": [],
   "source": [
    "import xarray as xr\n",
    "import numpy as np\n",
    "import matplotlib.pyplot as plt"
   ]
  },
  {
   "cell_type": "code",
   "execution_count": 31,
   "metadata": {},
   "outputs": [],
   "source": [
    "def weighted_annual_mean(array):\n",
    "    mon_day  = xr.DataArray(np.array([31,28,31,30,31,30,31,31,30,31,30,31]), dims=['month'])\n",
    "    mon_wgt  = mon_day/mon_day.sum()\n",
    "    return (array.rolling(time=12, center=False) # rolling\n",
    "            .construct(\"month\") # construct the array\n",
    "            .isel(time=slice(11, None, 12)) # slice so that the first element is [1..12], second is [13..24]\n",
    "            .dot(mon_wgt, dims=[\"month\"]))"
   ]
  },
  {
   "cell_type": "code",
   "execution_count": 32,
   "metadata": {},
   "outputs": [],
   "source": [
    "spy = 365 * 24 * 3600  # Convert  to annual fluxes (kgC/m2/y), from kgC/m2/s "
   ]
  },
  {
   "cell_type": "code",
   "execution_count": 33,
   "metadata": {},
   "outputs": [
    {
     "data": {
      "text/plain": [
       "<xarray.DataArray (member_id: 3, time: 286, lat: 64, lon: 128)>\n",
       "dask.array<mul, shape=(3, 286, 64, 128), dtype=float64, chunksize=(1, 50, 64, 128), chunktype=numpy.ndarray>\n",
       "Coordinates:\n",
       "  * lon        (lon) float64 0.0 2.812 5.625 8.438 ... 348.8 351.6 354.4 357.2\n",
       "  * time       (time) object 2015-12-16 12:00:00 ... 2300-12-16 12:00:00\n",
       "  * lat        (lat) float64 -87.86 -85.1 -82.31 -79.53 ... 82.31 85.1 87.86\n",
       "  * member_id  (member_id) <U8 'r1i1p1f1' 'r2i1p1f1' 'r3i1p1f1'\n",
       "Attributes:\n",
       "    units:    kgC m-2 y-1"
      ]
     },
     "execution_count": 33,
     "metadata": {},
     "output_type": "execute_result"
    }
   ],
   "source": [
    "nbp_canesm_amean = weighted_annual_mean(nbp_canesm) * spy\n",
    "nbp_canesm_amean.attrs['units'] = 'kgC m-2 y-1'\n",
    "nbp_canesm_amean # 3 ensemble members for CanESM"
   ]
  },
  {
   "cell_type": "code",
   "execution_count": 34,
   "metadata": {},
   "outputs": [
    {
     "data": {
      "text/plain": [
       "<xarray.DataArray (member_id: 2, time: 86, lat: 192, lon: 288)>\n",
       "dask.array<mul, shape=(2, 86, 192, 288), dtype=float64, chunksize=(1, 50, 192, 288), chunktype=numpy.ndarray>\n",
       "Coordinates:\n",
       "  * lon        (lon) float64 0.0 1.25 2.5 3.75 5.0 ... 355.0 356.2 357.5 358.8\n",
       "  * time       (time) object 2015-12-15 12:00:00 ... 2100-12-15 12:00:00\n",
       "  * lat        (lat) float64 -90.0 -89.06 -88.12 -87.17 ... 88.12 89.06 90.0\n",
       "  * member_id  (member_id) <U8 'r1i1p1f1' 'r2i1p1f1'\n",
       "Attributes:\n",
       "    units:    kgC m-2 y-1"
      ]
     },
     "execution_count": 34,
     "metadata": {},
     "output_type": "execute_result"
    }
   ],
   "source": [
    "nbp_cesm_amean = weighted_annual_mean(nbp_cesm) * spy\n",
    "nbp_cesm_amean.attrs['units'] = 'kgC m-2 y-1'\n",
    "nbp_cesm_amean # 2 ensemble members for CESM"
   ]
  },
  {
   "cell_type": "code",
   "execution_count": 52,
   "metadata": {},
   "outputs": [
    {
     "name": "stdout",
     "output_type": "stream",
     "text": [
      "[[[2.9948368e+07 2.9948368e+07 2.9948368e+07 ... 2.9948368e+07\n",
      "   2.9948368e+07 2.9948368e+07]\n",
      "  [2.3957478e+08 2.3957478e+08 2.3957478e+08 ... 2.3957478e+08\n",
      "   2.3957478e+08 2.3957478e+08]\n",
      "  [4.7908477e+08 4.7908477e+08 4.7908477e+08 ... 4.7908477e+08\n",
      "   4.7908477e+08 4.7908477e+08]\n",
      "  ...\n",
      "  [0.0000000e+00 0.0000000e+00 0.0000000e+00 ... 0.0000000e+00\n",
      "   0.0000000e+00 0.0000000e+00]\n",
      "  [0.0000000e+00 0.0000000e+00 0.0000000e+00 ... 0.0000000e+00\n",
      "   0.0000000e+00 0.0000000e+00]\n",
      "  [0.0000000e+00 0.0000000e+00 0.0000000e+00 ... 0.0000000e+00\n",
      "   0.0000000e+00 0.0000000e+00]]\n",
      "\n",
      " [[2.9948368e+07 2.9948368e+07 2.9948368e+07 ... 2.9948368e+07\n",
      "   2.9948368e+07 2.9948368e+07]\n",
      "  [2.3957478e+08 2.3957478e+08 2.3957478e+08 ... 2.3957478e+08\n",
      "   2.3957478e+08 2.3957478e+08]\n",
      "  [4.7908477e+08 4.7908477e+08 4.7908477e+08 ... 4.7908477e+08\n",
      "   4.7908477e+08 4.7908477e+08]\n",
      "  ...\n",
      "  [0.0000000e+00 0.0000000e+00 0.0000000e+00 ... 0.0000000e+00\n",
      "   0.0000000e+00 0.0000000e+00]\n",
      "  [0.0000000e+00 0.0000000e+00 0.0000000e+00 ... 0.0000000e+00\n",
      "   0.0000000e+00 0.0000000e+00]\n",
      "  [0.0000000e+00 0.0000000e+00 0.0000000e+00 ... 0.0000000e+00\n",
      "   0.0000000e+00 0.0000000e+00]]\n",
      "\n",
      " [[2.9948368e+07 2.9948368e+07 2.9948368e+07 ... 2.9948368e+07\n",
      "   2.9948368e+07 2.9948368e+07]\n",
      "  [2.3957478e+08 2.3957478e+08 2.3957478e+08 ... 2.3957478e+08\n",
      "   2.3957478e+08 2.3957478e+08]\n",
      "  [4.7908477e+08 4.7908477e+08 4.7908477e+08 ... 4.7908477e+08\n",
      "   4.7908477e+08 4.7908477e+08]\n",
      "  ...\n",
      "  [0.0000000e+00 0.0000000e+00 0.0000000e+00 ... 0.0000000e+00\n",
      "   0.0000000e+00 0.0000000e+00]\n",
      "  [0.0000000e+00 0.0000000e+00 0.0000000e+00 ... 0.0000000e+00\n",
      "   0.0000000e+00 0.0000000e+00]\n",
      "  [0.0000000e+00 0.0000000e+00 0.0000000e+00 ... 0.0000000e+00\n",
      "   0.0000000e+00 0.0000000e+00]]]\n"
     ]
    }
   ],
   "source": [
    "landUp_cesm = area_cesm * landfrac_cesm_frac\n",
    "print(landUp_cesm.values)\n",
    "landUp_canesm = area_canesm * landfrac_canesm_frac"
   ]
  },
  {
   "cell_type": "code",
   "execution_count": 38,
   "metadata": {},
   "outputs": [
    {
     "data": {
      "text/plain": [
       "array([0., 0., 0., 0., 0., 0., 0., 0., 0., 0., 0., 0., 0., 0., 0., 0., 0.,\n",
       "       0., 0., 0., 0., 0., 0., 0., 0., 0., 0., 0., 0., 0., 0., 0., 0., 0.,\n",
       "       0., 0., 0., 0., 0., 0., 0., 0., 0., 0., 0., 0., 0., 0., 0., 0., 0.,\n",
       "       0., 0., 0., 0., 0., 0., 0., 0., 0., 0., 0., 0., 0.])"
      ]
     },
     "execution_count": 38,
     "metadata": {},
     "output_type": "execute_result"
    }
   ],
   "source": [
    "# check lat diffs - again CESM needs correction\n",
    "latdiffs = landUp_cesm.lat.values - nbp_cesm_amean.lat.values\n",
    "#latdiffs"
   ]
  },
  {
   "cell_type": "code",
   "execution_count": 40,
   "metadata": {},
   "outputs": [],
   "source": [
    "landUp_cesm_modlat = landUp_cesm # create new landUp\n",
    "landUp_cesm_modlat.lat.values = nbp_cesm_amean.lat.values # just assign landUp lats to match nbp lats\n",
    "#print(landUp_cesm_modlat.lat.values - nbp_cesm_amean.lat.values) # sanity check"
   ]
  },
  {
   "cell_type": "code",
   "execution_count": 41,
   "metadata": {},
   "outputs": [
    {
     "data": {
      "text/plain": [
       "<xarray.DataArray (member_id: 2, time: 86, lat: 192, lon: 288)>\n",
       "dask.array<mul, shape=(2, 86, 192, 288), dtype=float64, chunksize=(1, 50, 192, 288), chunktype=numpy.ndarray>\n",
       "Coordinates:\n",
       "  * member_id  (member_id) object 'r1i1p1f1' 'r2i1p1f1'\n",
       "  * lon        (lon) float64 0.0 1.25 2.5 3.75 5.0 ... 355.0 356.2 357.5 358.8\n",
       "  * time       (time) object 2015-12-15 12:00:00 ... 2100-12-15 12:00:00\n",
       "  * lat        (lat) float64 -90.0 -89.06 -88.12 -87.17 ... 88.12 89.06 90.0"
      ]
     },
     "execution_count": 41,
     "metadata": {},
     "output_type": "execute_result"
    }
   ],
   "source": [
    "mean_wgt_cesm = nbp_cesm_amean * landUp_cesm_modlat\n",
    "mean_wgt_cesm # 2 EMs"
   ]
  },
  {
   "cell_type": "code",
   "execution_count": 42,
   "metadata": {},
   "outputs": [],
   "source": [
    "ann_glob_cesm = mean_wgt_cesm.sum(dim=('lat','lon')) * 1e-12 #convert to Pg/y\n",
    "ann_glob_cesm.attrs['units'] = 'Pg C y^-1'"
   ]
  },
  {
   "cell_type": "code",
   "execution_count": 43,
   "metadata": {},
   "outputs": [
    {
     "data": {
      "text/plain": [
       "<xarray.DataArray (member_id: 3, time: 286, lat: 64, lon: 128)>\n",
       "dask.array<mul, shape=(3, 286, 64, 128), dtype=float64, chunksize=(1, 50, 64, 128), chunktype=numpy.ndarray>\n",
       "Coordinates:\n",
       "  * lon        (lon) float64 0.0 2.812 5.625 8.438 ... 348.8 351.6 354.4 357.2\n",
       "  * time       (time) object 2015-12-16 12:00:00 ... 2300-12-16 12:00:00\n",
       "  * lat        (lat) float64 -87.86 -85.1 -82.31 -79.53 ... 82.31 85.1 87.86\n",
       "  * member_id  (member_id) <U8 'r1i1p1f1' 'r2i1p1f1' 'r3i1p1f1'"
      ]
     },
     "execution_count": 43,
     "metadata": {},
     "output_type": "execute_result"
    }
   ],
   "source": [
    "mean_wgt_canesm = nbp_canesm_amean * landUp_canesm\n",
    "mean_wgt_canesm # 3 EMs, 1 out to 2300!"
   ]
  },
  {
   "cell_type": "code",
   "execution_count": 44,
   "metadata": {},
   "outputs": [],
   "source": [
    "ann_glob_canesm = mean_wgt_canesm.sum(dim=('lat','lon')) * 1e-12 #convert to Pg/y\n",
    "ann_glob_canesm.attrs['units'] = 'Pg C y^-1'"
   ]
  },
  {
   "cell_type": "code",
   "execution_count": 50,
   "metadata": {},
   "outputs": [
    {
     "data": {
      "image/png": "[encoded data removed]",
      "text/plain": [
       "<Figure size 720x432 with 1 Axes>"
      ]
     },
     "metadata": {
      "needs_background": "light"
     },
     "output_type": "display_data"
    }
   ],
   "source": [
    "fig = plt.figure(figsize=(10, 6))\n",
    "\n",
    "# Ask, out of a 1x1 grid, the first axes.\n",
    "ax = fig.add_subplot(1, 1, 1)\n",
    "\n",
    "# Plot times as x-variable and temperatures as y-variable\n",
    "ax.plot(ann_glob_cesm.coords['time.year'], ann_glob_cesm[0,:], label='CESM2-EM1')\n",
    "ax.plot(ann_glob_cesm.coords['time.year'], ann_glob_cesm[1,:], label='CESM2-EM2')\n",
    "ax.plot(ann_glob_canesm.coords['time.year'][:86], ann_glob_canesm[0,:86], label='CanESM5-EM1')\n",
    "ax.plot(ann_glob_canesm.coords['time.year'][:86], ann_glob_canesm[1,:86], label='CanESM5-EM2')\n",
    "ax.plot(ann_glob_canesm.coords['time.year'][:86], ann_glob_canesm[2,:86], label='CanESM5-EM3')\n",
    "# Add some labels to the plot\n",
    "ax.set_xlabel('Time')\n",
    "ax.set_ylabel('NBP'+' (' + ann_glob_cesm.attrs['units'] +')')\n",
    "ax.set_title('NBP', fontdict={'size':16})\n",
    "ax.legend(loc='upper left');\n",
    "#plt.savefig('cesm_canesm_ssp585_nbp.pdf')"
   ]
  },
  {
   "cell_type": "code",
   "execution_count": null,
   "metadata": {},
   "outputs": [],
   "source": []
  }
 ],
 "metadata": {
  "kernelspec": {
   "display_name": "Python (conda-cmip6)",
   "language": "python",
   "name": "cmip6-201910"
  },
  "language_info": {
   "codemirror_mode": {
    "name": "ipython",
    "version": 3
   },
   "file_extension": ".py",
   "mimetype": "text/x-python",
   "name": "python",
   "nbconvert_exporter": "python",
   "pygments_lexer": "ipython3",
   "version": "3.7.3"
  }
 },
 "nbformat": 4,
 "nbformat_minor": 4
}
