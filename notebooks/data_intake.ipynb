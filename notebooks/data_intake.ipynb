{
 "cells": [
  {
   "cell_type": "markdown",
   "metadata": {},
   "source": [
    "## Import CMIP6 output"
   ]
  },
  {
   "cell_type": "code",
   "execution_count": 1,
   "metadata": {},
   "outputs": [],
   "source": [
    "import intake"
   ]
  },
  {
   "cell_type": "markdown",
   "metadata": {},
   "source": [
    "Open the metadata using the catalog .json file"
   ]
  },
  {
   "cell_type": "code",
   "execution_count": 17,
   "metadata": {},
   "outputs": [],
   "source": [
    "catalog = intake.open_esm_datastore(\"/glade/collections/cmip/catalog/intake-esm-datastore/catalogs/glade-cmip6.json\")"
   ]
  },
  {
   "cell_type": "markdown",
   "metadata": {},
   "source": [
    "Look at the top of the dataframe"
   ]
  },
  {
   "cell_type": "code",
   "execution_count": 18,
   "metadata": {},
   "outputs": [
    {
     "data": {
      "text/plain": [
       "glade-cmip6-ESM Collection with 687919 entries:\n",
       "\t> 12 activity_id(s)\n",
       "\n",
       "\t> 24 institution_id(s)\n",
       "\n",
       "\t> 47 source_id(s)\n",
       "\n",
       "\t> 66 experiment_id(s)\n",
       "\n",
       "\t> 162 member_id(s)\n",
       "\n",
       "\t> 35 table_id(s)\n",
       "\n",
       "\t> 1027 variable_id(s)\n",
       "\n",
       "\t> 12 grid_label(s)\n",
       "\n",
       "\t> 59 dcpp_init_year(s)\n",
       "\n",
       "\t> 246 version(s)\n",
       "\n",
       "\t> 6667 time_range(s)\n",
       "\n",
       "\t> 687919 path(s)"
      ]
     },
     "execution_count": 18,
     "metadata": {},
     "output_type": "execute_result"
    }
   ],
   "source": [
    "catalog"
   ]
  },
  {
   "cell_type": "code",
   "execution_count": 19,
   "metadata": {},
   "outputs": [
    {
     "data": {
      "text/html": [
       "<div>\n",
       "<style scoped>\n",
       "    .dataframe tbody tr th:only-of-type {\n",
       "        vertical-align: middle;\n",
       "    }\n",
       "\n",
       "    .dataframe tbody tr th {\n",
       "        vertical-align: top;\n",
       "    }\n",
       "\n",
       "    .dataframe thead th {\n",
       "        text-align: right;\n",
       "    }\n",
       "</style>\n",
       "<table border=\"1\" class=\"dataframe\">\n",
       "  <thead>\n",
       "    <tr style=\"text-align: right;\">\n",
       "      <th></th>\n",
       "      <th>activity_id</th>\n",
       "      <th>institution_id</th>\n",
       "      <th>source_id</th>\n",
       "      <th>experiment_id</th>\n",
       "      <th>member_id</th>\n",
       "      <th>table_id</th>\n",
       "      <th>variable_id</th>\n",
       "      <th>grid_label</th>\n",
       "      <th>dcpp_init_year</th>\n",
       "      <th>version</th>\n",
       "      <th>time_range</th>\n",
       "      <th>path</th>\n",
       "    </tr>\n",
       "  </thead>\n",
       "  <tbody>\n",
       "    <tr>\n",
       "      <td>0</td>\n",
       "      <td>AerChemMIP</td>\n",
       "      <td>BCC</td>\n",
       "      <td>BCC-ESM1</td>\n",
       "      <td>ssp370</td>\n",
       "      <td>r2i1p1f1</td>\n",
       "      <td>day</td>\n",
       "      <td>pr</td>\n",
       "      <td>gn</td>\n",
       "      <td>NaN</td>\n",
       "      <td>v20190702</td>\n",
       "      <td>20150101-20551231</td>\n",
       "      <td>/glade/collections/cmip/CMIP6/AerChemMIP/BCC/B...</td>\n",
       "    </tr>\n",
       "    <tr>\n",
       "      <td>1</td>\n",
       "      <td>AerChemMIP</td>\n",
       "      <td>BCC</td>\n",
       "      <td>BCC-ESM1</td>\n",
       "      <td>ssp370</td>\n",
       "      <td>r2i1p1f1</td>\n",
       "      <td>Amon</td>\n",
       "      <td>hfls</td>\n",
       "      <td>gn</td>\n",
       "      <td>NaN</td>\n",
       "      <td>v20190624</td>\n",
       "      <td>201501-205512</td>\n",
       "      <td>/glade/collections/cmip/CMIP6/AerChemMIP/BCC/B...</td>\n",
       "    </tr>\n",
       "    <tr>\n",
       "      <td>2</td>\n",
       "      <td>AerChemMIP</td>\n",
       "      <td>BCC</td>\n",
       "      <td>BCC-ESM1</td>\n",
       "      <td>ssp370</td>\n",
       "      <td>r2i1p1f1</td>\n",
       "      <td>Amon</td>\n",
       "      <td>prsn</td>\n",
       "      <td>gn</td>\n",
       "      <td>NaN</td>\n",
       "      <td>v20190624</td>\n",
       "      <td>201501-205512</td>\n",
       "      <td>/glade/collections/cmip/CMIP6/AerChemMIP/BCC/B...</td>\n",
       "    </tr>\n",
       "    <tr>\n",
       "      <td>3</td>\n",
       "      <td>AerChemMIP</td>\n",
       "      <td>BCC</td>\n",
       "      <td>BCC-ESM1</td>\n",
       "      <td>ssp370</td>\n",
       "      <td>r2i1p1f1</td>\n",
       "      <td>Amon</td>\n",
       "      <td>va</td>\n",
       "      <td>gn</td>\n",
       "      <td>NaN</td>\n",
       "      <td>v20190624</td>\n",
       "      <td>201501-205512</td>\n",
       "      <td>/glade/collections/cmip/CMIP6/AerChemMIP/BCC/B...</td>\n",
       "    </tr>\n",
       "    <tr>\n",
       "      <td>4</td>\n",
       "      <td>AerChemMIP</td>\n",
       "      <td>BCC</td>\n",
       "      <td>BCC-ESM1</td>\n",
       "      <td>ssp370</td>\n",
       "      <td>r2i1p1f1</td>\n",
       "      <td>Amon</td>\n",
       "      <td>tas</td>\n",
       "      <td>gn</td>\n",
       "      <td>NaN</td>\n",
       "      <td>v20190624</td>\n",
       "      <td>201501-205512</td>\n",
       "      <td>/glade/collections/cmip/CMIP6/AerChemMIP/BCC/B...</td>\n",
       "    </tr>\n",
       "  </tbody>\n",
       "</table>\n",
       "</div>"
      ],
      "text/plain": [
       "  activity_id institution_id source_id experiment_id member_id table_id  \\\n",
       "0  AerChemMIP            BCC  BCC-ESM1        ssp370  r2i1p1f1      day   \n",
       "1  AerChemMIP            BCC  BCC-ESM1        ssp370  r2i1p1f1     Amon   \n",
       "2  AerChemMIP            BCC  BCC-ESM1        ssp370  r2i1p1f1     Amon   \n",
       "3  AerChemMIP            BCC  BCC-ESM1        ssp370  r2i1p1f1     Amon   \n",
       "4  AerChemMIP            BCC  BCC-ESM1        ssp370  r2i1p1f1     Amon   \n",
       "\n",
       "  variable_id grid_label  dcpp_init_year    version         time_range  \\\n",
       "0          pr         gn             NaN  v20190702  20150101-20551231   \n",
       "1        hfls         gn             NaN  v20190624      201501-205512   \n",
       "2        prsn         gn             NaN  v20190624      201501-205512   \n",
       "3          va         gn             NaN  v20190624      201501-205512   \n",
       "4         tas         gn             NaN  v20190624      201501-205512   \n",
       "\n",
       "                                                path  \n",
       "0  /glade/collections/cmip/CMIP6/AerChemMIP/BCC/B...  \n",
       "1  /glade/collections/cmip/CMIP6/AerChemMIP/BCC/B...  \n",
       "2  /glade/collections/cmip/CMIP6/AerChemMIP/BCC/B...  \n",
       "3  /glade/collections/cmip/CMIP6/AerChemMIP/BCC/B...  \n",
       "4  /glade/collections/cmip/CMIP6/AerChemMIP/BCC/B...  "
      ]
     },
     "execution_count": 19,
     "metadata": {},
     "output_type": "execute_result"
    }
   ],
   "source": [
    "catalog.df.head()"
   ]
  },
  {
   "cell_type": "markdown",
   "metadata": {},
   "source": [
    "What are the unique experiment ids?"
   ]
  },
  {
   "cell_type": "code",
   "execution_count": 20,
   "metadata": {},
   "outputs": [
    {
     "data": {
      "text/plain": [
       "{'experiment_id': {'count': 66,\n",
       "  'values': ['ssp370',\n",
       "   'histSST-piNTCF',\n",
       "   'histSST',\n",
       "   'histSST-1950HC',\n",
       "   'hist-1950HC',\n",
       "   'hist-piNTCF',\n",
       "   'piClim-NTCF',\n",
       "   'ssp370SST-lowNTCF',\n",
       "   'ssp370-lowNTCF',\n",
       "   'ssp370SST',\n",
       "   'hist-bgc',\n",
       "   'esm-ssp585',\n",
       "   'amip-future4K',\n",
       "   'amip-m4K',\n",
       "   'a4SST',\n",
       "   'aqua-p4K',\n",
       "   'piSST',\n",
       "   'amip-4xCO2',\n",
       "   'a4SSTice',\n",
       "   'amip-p4K',\n",
       "   'aqua-control',\n",
       "   'aqua-4xCO2',\n",
       "   'abrupt-4xCO2',\n",
       "   'historical',\n",
       "   'piControl',\n",
       "   'amip',\n",
       "   '1pctCO2',\n",
       "   'esm-piControl',\n",
       "   'esm-hist',\n",
       "   'ssp245',\n",
       "   'ssp585',\n",
       "   'ssp126',\n",
       "   'hist-GHG',\n",
       "   'hist-aer',\n",
       "   'dcppA-hindcast',\n",
       "   'dcppC-hindcast-noPinatubo',\n",
       "   'dcppC-hindcast-noElChichon',\n",
       "   'dcppA-assim',\n",
       "   'dcppC-hindcast-noAgung',\n",
       "   'hist-1950',\n",
       "   'highresSST-present',\n",
       "   'control-1950',\n",
       "   'land-hist-princeton',\n",
       "   'land-hist-cruNcep',\n",
       "   'land-hist',\n",
       "   'deforest-globe',\n",
       "   'esm-ssp585-ssp126Lu',\n",
       "   'land-cCO2',\n",
       "   'hist-noLu',\n",
       "   'land-crop-noFert',\n",
       "   'ssp370-ssp126Lu',\n",
       "   'ssp126-ssp370Lu',\n",
       "   'land-noLu',\n",
       "   'land-noFire',\n",
       "   'land-hist-altStartYear',\n",
       "   'land-cClim',\n",
       "   'omip1',\n",
       "   'pdSST-piAntSIC',\n",
       "   'pdSST-futAntSIC',\n",
       "   'pdSST-pdSIC',\n",
       "   'pdSST-piArcSIC',\n",
       "   'pdSST-futArcSIC',\n",
       "   'ssp119',\n",
       "   'ssp434',\n",
       "   'ssp460',\n",
       "   'ssp534-over']}}"
      ]
     },
     "execution_count": 20,
     "metadata": {},
     "output_type": "execute_result"
    }
   ],
   "source": [
    "catalog.unique(['experiment_id'])"
   ]
  },
  {
   "cell_type": "markdown",
   "metadata": {},
   "source": [
    "Interested in experiment id \"esm-ssp585\""
   ]
  },
  {
   "cell_type": "code",
   "execution_count": 22,
   "metadata": {},
   "outputs": [],
   "source": [
    "sr_esm_nbp = catalog.search(experiment_id='esm-ssp585', variable_id='nbp')"
   ]
  },
  {
   "cell_type": "code",
   "execution_count": 23,
   "metadata": {},
   "outputs": [
    {
     "data": {
      "text/plain": [
       "glade-cmip6-ESM Collection with 2 entries:\n",
       "\t> 1 activity_id(s)\n",
       "\n",
       "\t> 1 institution_id(s)\n",
       "\n",
       "\t> 1 source_id(s)\n",
       "\n",
       "\t> 1 experiment_id(s)\n",
       "\n",
       "\t> 2 member_id(s)\n",
       "\n",
       "\t> 1 table_id(s)\n",
       "\n",
       "\t> 1 variable_id(s)\n",
       "\n",
       "\t> 1 grid_label(s)\n",
       "\n",
       "\t> 0 dcpp_init_year(s)\n",
       "\n",
       "\t> 1 version(s)\n",
       "\n",
       "\t> 1 time_range(s)\n",
       "\n",
       "\t> 2 path(s)"
      ]
     },
     "execution_count": 23,
     "metadata": {},
     "output_type": "execute_result"
    }
   ],
   "source": [
    "sr_esm_nbp"
   ]
  },
  {
   "cell_type": "code",
   "execution_count": 24,
   "metadata": {},
   "outputs": [
    {
     "data": {
      "text/html": [
       "<div>\n",
       "<style scoped>\n",
       "    .dataframe tbody tr th:only-of-type {\n",
       "        vertical-align: middle;\n",
       "    }\n",
       "\n",
       "    .dataframe tbody tr th {\n",
       "        vertical-align: top;\n",
       "    }\n",
       "\n",
       "    .dataframe thead th {\n",
       "        text-align: right;\n",
       "    }\n",
       "</style>\n",
       "<table border=\"1\" class=\"dataframe\">\n",
       "  <thead>\n",
       "    <tr style=\"text-align: right;\">\n",
       "      <th></th>\n",
       "      <th>activity_id</th>\n",
       "      <th>institution_id</th>\n",
       "      <th>source_id</th>\n",
       "      <th>experiment_id</th>\n",
       "      <th>member_id</th>\n",
       "      <th>table_id</th>\n",
       "      <th>variable_id</th>\n",
       "      <th>grid_label</th>\n",
       "      <th>dcpp_init_year</th>\n",
       "      <th>version</th>\n",
       "      <th>time_range</th>\n",
       "      <th>path</th>\n",
       "    </tr>\n",
       "  </thead>\n",
       "  <tbody>\n",
       "    <tr>\n",
       "      <td>11552</td>\n",
       "      <td>C4MIP</td>\n",
       "      <td>CCCma</td>\n",
       "      <td>CanESM5</td>\n",
       "      <td>esm-ssp585</td>\n",
       "      <td>r2i1p1f1</td>\n",
       "      <td>Lmon</td>\n",
       "      <td>nbp</td>\n",
       "      <td>gn</td>\n",
       "      <td>NaN</td>\n",
       "      <td>v20190429</td>\n",
       "      <td>201501-210012</td>\n",
       "      <td>/glade/collections/cmip/CMIP6/C4MIP/CCCma/CanE...</td>\n",
       "    </tr>\n",
       "    <tr>\n",
       "      <td>11562</td>\n",
       "      <td>C4MIP</td>\n",
       "      <td>CCCma</td>\n",
       "      <td>CanESM5</td>\n",
       "      <td>esm-ssp585</td>\n",
       "      <td>r3i1p1f1</td>\n",
       "      <td>Lmon</td>\n",
       "      <td>nbp</td>\n",
       "      <td>gn</td>\n",
       "      <td>NaN</td>\n",
       "      <td>v20190429</td>\n",
       "      <td>201501-210012</td>\n",
       "      <td>/glade/collections/cmip/CMIP6/C4MIP/CCCma/CanE...</td>\n",
       "    </tr>\n",
       "  </tbody>\n",
       "</table>\n",
       "</div>"
      ],
      "text/plain": [
       "      activity_id institution_id source_id experiment_id member_id table_id  \\\n",
       "11552       C4MIP          CCCma   CanESM5    esm-ssp585  r2i1p1f1     Lmon   \n",
       "11562       C4MIP          CCCma   CanESM5    esm-ssp585  r3i1p1f1     Lmon   \n",
       "\n",
       "      variable_id grid_label  dcpp_init_year    version     time_range  \\\n",
       "11552         nbp         gn             NaN  v20190429  201501-210012   \n",
       "11562         nbp         gn             NaN  v20190429  201501-210012   \n",
       "\n",
       "                                                    path  \n",
       "11552  /glade/collections/cmip/CMIP6/C4MIP/CCCma/CanE...  \n",
       "11562  /glade/collections/cmip/CMIP6/C4MIP/CCCma/CanE...  "
      ]
     },
     "execution_count": 24,
     "metadata": {},
     "output_type": "execute_result"
    }
   ],
   "source": [
    "sr_esm_nbp.df.head()"
   ]
  },
  {
   "cell_type": "code",
   "execution_count": 25,
   "metadata": {},
   "outputs": [
    {
     "data": {
      "text/plain": [
       "'/glade/collections/cmip/CMIP6/C4MIP/CCCma/CanESM5/esm-ssp585/r2i1p1f1/Lmon/nbp/gn/v20190429/nbp/nbp_Lmon_CanESM5_esm-ssp585_r2i1p1f1_gn_201501-210012.nc'"
      ]
     },
     "execution_count": 25,
     "metadata": {},
     "output_type": "execute_result"
    }
   ],
   "source": [
    "sr_esm_nbp.df.iloc[0].path"
   ]
  },
  {
   "cell_type": "markdown",
   "metadata": {},
   "source": [
    "Convert dataframe to dictionary, will concatenate along ensemble member"
   ]
  },
  {
   "cell_type": "code",
   "execution_count": 43,
   "metadata": {},
   "outputs": [
    {
     "name": "stdout",
     "output_type": "stream",
     "text": [
      "\n",
      "xarray will load netCDF datasets with dask using a single chunk for all arrays.\n",
      "For effective chunking, please provide chunks in cdf_kwargs.\n",
      "For example: cdf_kwargs={'chunks': {'time': 36}}\n",
      "\n"
     ]
    }
   ],
   "source": [
    "esm_nbp_ds = sr_esm_nbp.to_dataset_dict()"
   ]
  },
  {
   "cell_type": "code",
   "execution_count": 44,
   "metadata": {},
   "outputs": [
    {
     "data": {
      "text/plain": [
       "{'C4MIP.CCCma.CanESM5.esm-ssp585.Lmon.gn': <xarray.Dataset>\n",
       " Dimensions:    (bnds: 2, lat: 64, lon: 128, member_id: 2, time: 1032)\n",
       " Coordinates:\n",
       "   * time       (time) object 2015-01-16 12:00:00 ... 2100-12-16 12:00:00\n",
       "   * lon        (lon) float64 0.0 2.812 5.625 8.438 ... 348.8 351.6 354.4 357.2\n",
       "   * lat        (lat) float64 -87.86 -85.1 -82.31 -79.53 ... 82.31 85.1 87.86\n",
       "   * member_id  (member_id) <U8 'r2i1p1f1' 'r3i1p1f1'\n",
       " Dimensions without coordinates: bnds\n",
       " Data variables:\n",
       "     lon_bnds   (lon, bnds) float64 -1.406 1.406 1.406 ... 355.8 355.8 358.6\n",
       "     time_bnds  (time, bnds) object dask.array<chunksize=(1032, 2), meta=np.ndarray>\n",
       "     lat_bnds   (lat, bnds) float64 -90.0 -86.58 -86.58 ... 86.58 86.58 90.0\n",
       "     nbp        (member_id, time, lat, lon) float32 dask.array<chunksize=(1, 1032, 64, 128), meta=np.ndarray>\n",
       " Attributes:\n",
       "     experiment_id:               esm-ssp585\n",
       "     product:                     model-output\n",
       "     frequency:                   mon\n",
       "     title:                       CanESM5 output prepared for CMIP6\n",
       "     source_type:                 AOGCM\n",
       "     forcing_index:               1\n",
       "     sub_experiment:              none\n",
       "     parent_source_id:            CanESM5\n",
       "     table_info:                  Creation Date:(20 February 2019) MD5:374fbe5...\n",
       "     parent_activity_id:          CMIP\n",
       "     variable_id:                 nbp\n",
       "     YMDH_branch_time_in_parent:  2015:01:01:00\n",
       "     experiment:                  emission-driven RCP8.5 based on SSP5\n",
       "     parent_mip_era:              CMIP6\n",
       "     history:                     2019-05-01T02:00:44Z ;rewrote data to be con...\n",
       "     version:                     v20190429\n",
       "     contact:                     ec.cccma.info-info.ccmac.ec@canada.ca\n",
       "     tracking_id:                 hdl:21.14100/274db383-df63-4aed-b58f-3533b0b...\n",
       "     parent_time_units:           days since 1850-01-01 0:0:0.0\n",
       "     realm:                       land\n",
       "     cmor_version:                3.4.0\n",
       "     CCCma_model_hash:            6c6e0e9a5315c8d00a66f67e499c4a307e925851\n",
       "     license:                     CMIP6 model data produced by The Government ...\n",
       "     Conventions:                 CF-1.7 CMIP-6.2\n",
       "     branch_time_in_child:        60225.0\n",
       "     initialization_index:        1\n",
       "     source_id:                   CanESM5\n",
       "     mip_era:                     CMIP6\n",
       "     institution_id:              CCCma\n",
       "     external_variables:          areacella\n",
       "     YMDH_branch_time_in_child:   2015:01:01:00\n",
       "     grid_label:                  gn\n",
       "     physics_index:               1\n",
       "     nominal_resolution:          500 km\n",
       "     parent_experiment_id:        esm-hist\n",
       "     table_id:                    Lmon\n",
       "     branch_time_in_parent:       60225.0\n",
       "     grid:                        T63L49 native atmosphere, T63 Linear Gaussia...\n",
       "     branch_method:               Spin-up documentation\n",
       "     CCCma_pycmor_hash:           33c30511acc319a98240633965a04ca99c26427e\n",
       "     references:                  Geophysical Model Development Special issue ...\n",
       "     source:                      CanESM5 (2019): \\naerosol: interactive\\natmo...\n",
       "     data_specs_version:          01.00.29\n",
       "     institution:                 Canadian Centre for Climate Modelling and An...\n",
       "     activity_id:                 C4MIP\n",
       "     sub_experiment_id:           none}"
      ]
     },
     "execution_count": 44,
     "metadata": {},
     "output_type": "execute_result"
    }
   ],
   "source": [
    "esm_nbp_ds"
   ]
  },
  {
   "cell_type": "markdown",
   "metadata": {},
   "source": [
    "What are the unique source ids (models)?"
   ]
  },
  {
   "cell_type": "code",
   "execution_count": 45,
   "metadata": {},
   "outputs": [
    {
     "data": {
      "text/plain": [
       "{'source_id': {'count': 1, 'values': ['CanESM5']}}"
      ]
     },
     "execution_count": 45,
     "metadata": {},
     "output_type": "execute_result"
    }
   ],
   "source": [
    "sr_esm_nbp.unique(['source_id'])"
   ]
  },
  {
   "cell_type": "markdown",
   "metadata": {},
   "source": [
    "What are the unique ensemble members ids?"
   ]
  },
  {
   "cell_type": "code",
   "execution_count": 46,
   "metadata": {},
   "outputs": [
    {
     "data": {
      "text/plain": [
       "{'member_id': {'count': 2, 'values': ['r2i1p1f1', 'r3i1p1f1']}}"
      ]
     },
     "execution_count": 46,
     "metadata": {},
     "output_type": "execute_result"
    }
   ],
   "source": [
    "sr_esm_nbp.unique('member_id') # how are ensemble members generated?"
   ]
  },
  {
   "cell_type": "markdown",
   "metadata": {},
   "source": [
    "Single ensemble member, convert to dictionary"
   ]
  },
  {
   "cell_type": "code",
   "execution_count": 47,
   "metadata": {},
   "outputs": [
    {
     "name": "stdout",
     "output_type": "stream",
     "text": [
      "\n",
      "xarray will load netCDF datasets with dask using a single chunk for all arrays.\n",
      "For effective chunking, please provide chunks in cdf_kwargs.\n",
      "For example: cdf_kwargs={'chunks': {'time': 36}}\n",
      "\n",
      "--> The keys in the returned dictionary of datasets are constructed as follows:\n",
      "\t'activity_id.institution_id.source_id.experiment_id.table_id.grid_label'\n",
      "\n",
      "--> There will be 1 group(s)\n"
     ]
    },
    {
     "data": {
      "text/plain": [
       "{'C4MIP.CCCma.CanESM5.esm-ssp585.Lmon.gn': <xarray.Dataset>\n",
       " Dimensions:    (bnds: 2, lat: 64, lon: 128, member_id: 1, time: 1032)\n",
       " Coordinates:\n",
       "   * time       (time) object 2015-01-16 12:00:00 ... 2100-12-16 12:00:00\n",
       "   * lon        (lon) float64 0.0 2.812 5.625 8.438 ... 348.8 351.6 354.4 357.2\n",
       "   * lat        (lat) float64 -87.86 -85.1 -82.31 -79.53 ... 82.31 85.1 87.86\n",
       "   * member_id  (member_id) <U8 'r2i1p1f1'\n",
       " Dimensions without coordinates: bnds\n",
       " Data variables:\n",
       "     lon_bnds   (lon, bnds) float64 -1.406 1.406 1.406 ... 355.8 355.8 358.6\n",
       "     time_bnds  (time, bnds) object dask.array<chunksize=(1032, 2), meta=np.ndarray>\n",
       "     lat_bnds   (lat, bnds) float64 -90.0 -86.58 -86.58 ... 86.58 86.58 90.0\n",
       "     nbp        (member_id, time, lat, lon) float32 dask.array<chunksize=(1, 1032, 64, 128), meta=np.ndarray>\n",
       " Attributes:\n",
       "     CCCma_model_hash:            6c6e0e9a5315c8d00a66f67e499c4a307e925851\n",
       "     CCCma_parent_runid:          rc3.1-hfr02\n",
       "     CCCma_pycmor_hash:           33c30511acc319a98240633965a04ca99c26427e\n",
       "     CCCma_runid:                 rc3.1-fr8502\n",
       "     Conventions:                 CF-1.7 CMIP-6.2\n",
       "     YMDH_branch_time_in_child:   2015:01:01:00\n",
       "     YMDH_branch_time_in_parent:  2015:01:01:00\n",
       "     activity_id:                 C4MIP\n",
       "     branch_method:               Spin-up documentation\n",
       "     branch_time_in_child:        60225.0\n",
       "     branch_time_in_parent:       60225.0\n",
       "     contact:                     ec.cccma.info-info.ccmac.ec@canada.ca\n",
       "     creation_date:               2019-05-01T02:00:44Z\n",
       "     data_specs_version:          01.00.29\n",
       "     experiment:                  emission-driven RCP8.5 based on SSP5\n",
       "     experiment_id:               esm-ssp585\n",
       "     external_variables:          areacella\n",
       "     forcing_index:               1\n",
       "     frequency:                   mon\n",
       "     further_info_url:            https://furtherinfo.es-doc.org/CMIP6.CCCma.C...\n",
       "     grid:                        T63L49 native atmosphere, T63 Linear Gaussia...\n",
       "     grid_label:                  gn\n",
       "     history:                     2019-05-01T02:00:44Z ;rewrote data to be con...\n",
       "     initialization_index:        1\n",
       "     institution:                 Canadian Centre for Climate Modelling and An...\n",
       "     institution_id:              CCCma\n",
       "     mip_era:                     CMIP6\n",
       "     nominal_resolution:          500 km\n",
       "     parent_activity_id:          CMIP\n",
       "     parent_experiment_id:        esm-hist\n",
       "     parent_mip_era:              CMIP6\n",
       "     parent_source_id:            CanESM5\n",
       "     parent_time_units:           days since 1850-01-01 0:0:0.0\n",
       "     parent_variant_label:        r2i1p1f1\n",
       "     physics_index:               1\n",
       "     product:                     model-output\n",
       "     realization_index:           2\n",
       "     realm:                       land\n",
       "     references:                  Geophysical Model Development Special issue ...\n",
       "     source:                      CanESM5 (2019): \\naerosol: interactive\\natmo...\n",
       "     source_id:                   CanESM5\n",
       "     source_type:                 AOGCM\n",
       "     sub_experiment:              none\n",
       "     sub_experiment_id:           none\n",
       "     table_id:                    Lmon\n",
       "     table_info:                  Creation Date:(20 February 2019) MD5:374fbe5...\n",
       "     title:                       CanESM5 output prepared for CMIP6\n",
       "     tracking_id:                 hdl:21.14100/274db383-df63-4aed-b58f-3533b0b...\n",
       "     variable_id:                 nbp\n",
       "     variant_label:               r2i1p1f1\n",
       "     version:                     v20190429\n",
       "     license:                     CMIP6 model data produced by The Government ...\n",
       "     cmor_version:                3.4.0}"
      ]
     },
     "execution_count": 47,
     "metadata": {},
     "output_type": "execute_result"
    }
   ],
   "source": [
    "esm_nbp_ds_r2i1p1f1 = sr_esm_nbp.search(member_id='r2i1p1f1').to_dataset_dict()\n",
    "esm_nbp_ds_r2i1p1f1"
   ]
  },
  {
   "cell_type": "markdown",
   "metadata": {},
   "source": [
    "What are the dictionary keys?"
   ]
  },
  {
   "cell_type": "code",
   "execution_count": 48,
   "metadata": {},
   "outputs": [
    {
     "data": {
      "text/plain": [
       "dict_keys(['C4MIP.CCCma.CanESM5.esm-ssp585.Lmon.gn'])"
      ]
     },
     "execution_count": 48,
     "metadata": {},
     "output_type": "execute_result"
    }
   ],
   "source": [
    "esm_nbp_ds.keys()"
   ]
  },
  {
   "cell_type": "markdown",
   "metadata": {},
   "source": [
    "Access dataset from dictionary using appropriate key"
   ]
  },
  {
   "cell_type": "code",
   "execution_count": 49,
   "metadata": {},
   "outputs": [
    {
     "data": {
      "text/plain": [
       "<xarray.Dataset>\n",
       "Dimensions:    (bnds: 2, lat: 64, lon: 128, member_id: 2, time: 1032)\n",
       "Coordinates:\n",
       "  * time       (time) object 2015-01-16 12:00:00 ... 2100-12-16 12:00:00\n",
       "  * lon        (lon) float64 0.0 2.812 5.625 8.438 ... 348.8 351.6 354.4 357.2\n",
       "  * lat        (lat) float64 -87.86 -85.1 -82.31 -79.53 ... 82.31 85.1 87.86\n",
       "  * member_id  (member_id) <U8 'r2i1p1f1' 'r3i1p1f1'\n",
       "Dimensions without coordinates: bnds\n",
       "Data variables:\n",
       "    lon_bnds   (lon, bnds) float64 -1.406 1.406 1.406 ... 355.8 355.8 358.6\n",
       "    time_bnds  (time, bnds) object dask.array<chunksize=(1032, 2), meta=np.ndarray>\n",
       "    lat_bnds   (lat, bnds) float64 -90.0 -86.58 -86.58 ... 86.58 86.58 90.0\n",
       "    nbp        (member_id, time, lat, lon) float32 dask.array<chunksize=(1, 1032, 64, 128), meta=np.ndarray>\n",
       "Attributes:\n",
       "    experiment_id:               esm-ssp585\n",
       "    product:                     model-output\n",
       "    frequency:                   mon\n",
       "    title:                       CanESM5 output prepared for CMIP6\n",
       "    source_type:                 AOGCM\n",
       "    forcing_index:               1\n",
       "    sub_experiment:              none\n",
       "    parent_source_id:            CanESM5\n",
       "    table_info:                  Creation Date:(20 February 2019) MD5:374fbe5...\n",
       "    parent_activity_id:          CMIP\n",
       "    variable_id:                 nbp\n",
       "    YMDH_branch_time_in_parent:  2015:01:01:00\n",
       "    experiment:                  emission-driven RCP8.5 based on SSP5\n",
       "    parent_mip_era:              CMIP6\n",
       "    history:                     2019-05-01T02:00:44Z ;rewrote data to be con...\n",
       "    version:                     v20190429\n",
       "    contact:                     ec.cccma.info-info.ccmac.ec@canada.ca\n",
       "    tracking_id:                 hdl:21.14100/274db383-df63-4aed-b58f-3533b0b...\n",
       "    parent_time_units:           days since 1850-01-01 0:0:0.0\n",
       "    realm:                       land\n",
       "    cmor_version:                3.4.0\n",
       "    CCCma_model_hash:            6c6e0e9a5315c8d00a66f67e499c4a307e925851\n",
       "    license:                     CMIP6 model data produced by The Government ...\n",
       "    Conventions:                 CF-1.7 CMIP-6.2\n",
       "    branch_time_in_child:        60225.0\n",
       "    initialization_index:        1\n",
       "    source_id:                   CanESM5\n",
       "    mip_era:                     CMIP6\n",
       "    institution_id:              CCCma\n",
       "    external_variables:          areacella\n",
       "    YMDH_branch_time_in_child:   2015:01:01:00\n",
       "    grid_label:                  gn\n",
       "    physics_index:               1\n",
       "    nominal_resolution:          500 km\n",
       "    parent_experiment_id:        esm-hist\n",
       "    table_id:                    Lmon\n",
       "    branch_time_in_parent:       60225.0\n",
       "    grid:                        T63L49 native atmosphere, T63 Linear Gaussia...\n",
       "    branch_method:               Spin-up documentation\n",
       "    CCCma_pycmor_hash:           33c30511acc319a98240633965a04ca99c26427e\n",
       "    references:                  Geophysical Model Development Special issue ...\n",
       "    source:                      CanESM5 (2019): \\naerosol: interactive\\natmo...\n",
       "    data_specs_version:          01.00.29\n",
       "    institution:                 Canadian Centre for Climate Modelling and An...\n",
       "    activity_id:                 C4MIP\n",
       "    sub_experiment_id:           none"
      ]
     },
     "execution_count": 49,
     "metadata": {},
     "output_type": "execute_result"
    }
   ],
   "source": [
    "esm_nbp_ds['C4MIP.CCCma.CanESM5.esm-ssp585.Lmon.gn']"
   ]
  },
  {
   "cell_type": "markdown",
   "metadata": {},
   "source": [
    "## Plotting NBP so far"
   ]
  },
  {
   "cell_type": "code",
   "execution_count": 55,
   "metadata": {},
   "outputs": [
    {
     "data": {
      "text/plain": [
       "<xarray.DataArray 'time' (time: 1032)>\n",
       "array([cftime.DatetimeNoLeap(2015, 1, 16, 12, 0, 0, 0, 0, 16),\n",
       "       cftime.DatetimeNoLeap(2015, 2, 15, 0, 0, 0, 0, 2, 46),\n",
       "       cftime.DatetimeNoLeap(2015, 3, 16, 12, 0, 0, 0, 3, 75), ...,\n",
       "       cftime.DatetimeNoLeap(2100, 10, 16, 12, 0, 0, 0, 1, 289),\n",
       "       cftime.DatetimeNoLeap(2100, 11, 16, 0, 0, 0, 0, 4, 320),\n",
       "       cftime.DatetimeNoLeap(2100, 12, 16, 12, 0, 0, 0, 6, 350)], dtype=object)\n",
       "Coordinates:\n",
       "  * time     (time) object 2015-01-16 12:00:00 ... 2100-12-16 12:00:00\n",
       "Attributes:\n",
       "    bounds:         time_bnds\n",
       "    axis:           T\n",
       "    long_name:      time\n",
       "    standard_name:  time"
      ]
     },
     "execution_count": 55,
     "metadata": {},
     "output_type": "execute_result"
    }
   ],
   "source": [
    "nbp = esm_nbp_ds['C4MIP.CCCma.CanESM5.esm-ssp585.Lmon.gn']\n",
    "nbp.time"
   ]
  },
  {
   "cell_type": "code",
   "execution_count": null,
   "metadata": {},
   "outputs": [],
   "source": []
  }
 ],
 "metadata": {
  "kernelspec": {
   "display_name": "Python (conda-cmip6)",
   "language": "python",
   "name": "cmip6"
  },
  "language_info": {
   "codemirror_mode": {
    "name": "ipython",
    "version": 3
   },
   "file_extension": ".py",
   "mimetype": "text/x-python",
   "name": "python",
   "nbconvert_exporter": "python",
   "pygments_lexer": "ipython3",
   "version": "3.7.3"
  }
 },
 "nbformat": 4,
 "nbformat_minor": 4
}
