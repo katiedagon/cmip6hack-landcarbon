{
 "cells": [
  {
   "cell_type": "markdown",
   "metadata": {},
   "source": [
    "## Import CMIP6 output"
   ]
  },
  {
   "cell_type": "code",
   "execution_count": 1,
   "metadata": {},
   "outputs": [
    {
     "name": "stderr",
     "output_type": "stream",
     "text": [
      "/ncar/usr/jupyterhub/envs/cmip6-201910a/lib/python3.7/site-packages/intake/source/discovery.py:136: FutureWarning: The drivers ['stac-catalog', 'stac-collection', 'stac-item'] do not specify entry_points and were only discovered via a package scan. This may break in a future release of intake. The packages should be updated.\n",
      "  FutureWarning)\n"
     ]
    }
   ],
   "source": [
    "import intake"
   ]
  },
  {
   "cell_type": "markdown",
   "metadata": {},
   "source": [
    "Open the metadata using the catalog .json file"
   ]
  },
  {
   "cell_type": "code",
   "execution_count": 2,
   "metadata": {},
   "outputs": [],
   "source": [
    "# full path on glade\n",
    "#catalog = intake.open_esm_datastore(\"/glade/collections/cmip/catalog/intake-esm-datastore/catalogs/glade-cmip6.json\")\n",
    "# shortcut from github template\n",
    "#catalog = intake.open_esm_datastore(\"../catalogs/glade-cmip6.json\") # doesn't have CanESM fx output vars\n",
    "catalog = intake.open_esm_datastore(\"../catalogs/pangeo-cmip6.json\") # this doesn't work w/o internet access\n",
    "#catalog"
   ]
  },
  {
   "cell_type": "markdown",
   "metadata": {},
   "source": [
    "Look at top of dataframe"
   ]
  },
  {
   "cell_type": "code",
   "execution_count": 3,
   "metadata": {},
   "outputs": [
    {
     "data": {
      "text/html": [
       "<div>\n",
       "<style scoped>\n",
       "    .dataframe tbody tr th:only-of-type {\n",
       "        vertical-align: middle;\n",
       "    }\n",
       "\n",
       "    .dataframe tbody tr th {\n",
       "        vertical-align: top;\n",
       "    }\n",
       "\n",
       "    .dataframe thead th {\n",
       "        text-align: right;\n",
       "    }\n",
       "</style>\n",
       "<table border=\"1\" class=\"dataframe\">\n",
       "  <thead>\n",
       "    <tr style=\"text-align: right;\">\n",
       "      <th></th>\n",
       "      <th>activity_id</th>\n",
       "      <th>institution_id</th>\n",
       "      <th>source_id</th>\n",
       "      <th>experiment_id</th>\n",
       "      <th>member_id</th>\n",
       "      <th>table_id</th>\n",
       "      <th>variable_id</th>\n",
       "      <th>grid_label</th>\n",
       "      <th>zstore</th>\n",
       "      <th>dcpp_init_year</th>\n",
       "    </tr>\n",
       "  </thead>\n",
       "  <tbody>\n",
       "    <tr>\n",
       "      <td>0</td>\n",
       "      <td>AerChemMIP</td>\n",
       "      <td>BCC</td>\n",
       "      <td>BCC-ESM1</td>\n",
       "      <td>ssp370</td>\n",
       "      <td>r1i1p1f1</td>\n",
       "      <td>Amon</td>\n",
       "      <td>pr</td>\n",
       "      <td>gn</td>\n",
       "      <td>gs://cmip6/AerChemMIP/BCC/BCC-ESM1/ssp370/r1i1...</td>\n",
       "      <td>NaN</td>\n",
       "    </tr>\n",
       "    <tr>\n",
       "      <td>1</td>\n",
       "      <td>AerChemMIP</td>\n",
       "      <td>BCC</td>\n",
       "      <td>BCC-ESM1</td>\n",
       "      <td>ssp370</td>\n",
       "      <td>r1i1p1f1</td>\n",
       "      <td>Amon</td>\n",
       "      <td>prsn</td>\n",
       "      <td>gn</td>\n",
       "      <td>gs://cmip6/AerChemMIP/BCC/BCC-ESM1/ssp370/r1i1...</td>\n",
       "      <td>NaN</td>\n",
       "    </tr>\n",
       "    <tr>\n",
       "      <td>2</td>\n",
       "      <td>AerChemMIP</td>\n",
       "      <td>BCC</td>\n",
       "      <td>BCC-ESM1</td>\n",
       "      <td>ssp370</td>\n",
       "      <td>r1i1p1f1</td>\n",
       "      <td>Amon</td>\n",
       "      <td>tas</td>\n",
       "      <td>gn</td>\n",
       "      <td>gs://cmip6/AerChemMIP/BCC/BCC-ESM1/ssp370/r1i1...</td>\n",
       "      <td>NaN</td>\n",
       "    </tr>\n",
       "    <tr>\n",
       "      <td>3</td>\n",
       "      <td>AerChemMIP</td>\n",
       "      <td>BCC</td>\n",
       "      <td>BCC-ESM1</td>\n",
       "      <td>ssp370</td>\n",
       "      <td>r1i1p1f1</td>\n",
       "      <td>Amon</td>\n",
       "      <td>tasmax</td>\n",
       "      <td>gn</td>\n",
       "      <td>gs://cmip6/AerChemMIP/BCC/BCC-ESM1/ssp370/r1i1...</td>\n",
       "      <td>NaN</td>\n",
       "    </tr>\n",
       "    <tr>\n",
       "      <td>4</td>\n",
       "      <td>AerChemMIP</td>\n",
       "      <td>BCC</td>\n",
       "      <td>BCC-ESM1</td>\n",
       "      <td>ssp370</td>\n",
       "      <td>r1i1p1f1</td>\n",
       "      <td>Amon</td>\n",
       "      <td>tasmin</td>\n",
       "      <td>gn</td>\n",
       "      <td>gs://cmip6/AerChemMIP/BCC/BCC-ESM1/ssp370/r1i1...</td>\n",
       "      <td>NaN</td>\n",
       "    </tr>\n",
       "  </tbody>\n",
       "</table>\n",
       "</div>"
      ],
      "text/plain": [
       "  activity_id institution_id source_id experiment_id member_id table_id  \\\n",
       "0  AerChemMIP            BCC  BCC-ESM1        ssp370  r1i1p1f1     Amon   \n",
       "1  AerChemMIP            BCC  BCC-ESM1        ssp370  r1i1p1f1     Amon   \n",
       "2  AerChemMIP            BCC  BCC-ESM1        ssp370  r1i1p1f1     Amon   \n",
       "3  AerChemMIP            BCC  BCC-ESM1        ssp370  r1i1p1f1     Amon   \n",
       "4  AerChemMIP            BCC  BCC-ESM1        ssp370  r1i1p1f1     Amon   \n",
       "\n",
       "  variable_id grid_label                                             zstore  \\\n",
       "0          pr         gn  gs://cmip6/AerChemMIP/BCC/BCC-ESM1/ssp370/r1i1...   \n",
       "1        prsn         gn  gs://cmip6/AerChemMIP/BCC/BCC-ESM1/ssp370/r1i1...   \n",
       "2         tas         gn  gs://cmip6/AerChemMIP/BCC/BCC-ESM1/ssp370/r1i1...   \n",
       "3      tasmax         gn  gs://cmip6/AerChemMIP/BCC/BCC-ESM1/ssp370/r1i1...   \n",
       "4      tasmin         gn  gs://cmip6/AerChemMIP/BCC/BCC-ESM1/ssp370/r1i1...   \n",
       "\n",
       "   dcpp_init_year  \n",
       "0             NaN  \n",
       "1             NaN  \n",
       "2             NaN  \n",
       "3             NaN  \n",
       "4             NaN  "
      ]
     },
     "execution_count": 3,
     "metadata": {},
     "output_type": "execute_result"
    }
   ],
   "source": [
    "catalog.df.head()"
   ]
  },
  {
   "cell_type": "markdown",
   "metadata": {},
   "source": [
    "What are the unique experiment ids?"
   ]
  },
  {
   "cell_type": "code",
   "execution_count": 4,
   "metadata": {},
   "outputs": [
    {
     "data": {
      "text/plain": [
       "{'experiment_id': {'count': 29,\n",
       "  'values': ['ssp370',\n",
       "   'esm-ssp585',\n",
       "   '1pctCO2-bgc',\n",
       "   'hist-bgc',\n",
       "   '1pctCO2',\n",
       "   'abrupt-4xCO2',\n",
       "   'historical',\n",
       "   'piControl',\n",
       "   'amip',\n",
       "   'esm-hist',\n",
       "   'esm-piControl',\n",
       "   'hist-GHG',\n",
       "   'hist-aer',\n",
       "   'hist-nat',\n",
       "   'dcppA-assim',\n",
       "   'dcppA-hindcast',\n",
       "   'dcppC-hindcast-noAgung',\n",
       "   'dcppC-hindcast-noElChichon',\n",
       "   'dcppC-hindcast-noPinatubo',\n",
       "   'highresSST-present',\n",
       "   'control-1950',\n",
       "   'hist-1950',\n",
       "   'deforest-globe',\n",
       "   'esm-ssp585-ssp126Lu',\n",
       "   'omip1',\n",
       "   'lgm',\n",
       "   'ssp126',\n",
       "   'ssp245',\n",
       "   'ssp585']}}"
      ]
     },
     "execution_count": 4,
     "metadata": {},
     "output_type": "execute_result"
    }
   ],
   "source": [
    "catalog.unique(['experiment_id'])"
   ]
  },
  {
   "cell_type": "markdown",
   "metadata": {},
   "source": [
    "What are the unique table ids?"
   ]
  },
  {
   "cell_type": "code",
   "execution_count": 5,
   "metadata": {},
   "outputs": [
    {
     "data": {
      "text/plain": [
       "{'table_id': {'count': 23,\n",
       "  'values': ['Amon',\n",
       "   'Lmon',\n",
       "   'Oyr',\n",
       "   'Omon',\n",
       "   'SImon',\n",
       "   'day',\n",
       "   '3hr',\n",
       "   '6hrLev',\n",
       "   'LImon',\n",
       "   'Aclim',\n",
       "   'Ofx',\n",
       "   'fx',\n",
       "   'Emon',\n",
       "   '6hrPlev',\n",
       "   'Oclim',\n",
       "   'SIclim',\n",
       "   'Eclim',\n",
       "   'Odec',\n",
       "   'AERmon',\n",
       "   'ImonGre',\n",
       "   '6hrPlevPt',\n",
       "   'CF3hr',\n",
       "   'E3hr']}}"
      ]
     },
     "execution_count": 5,
     "metadata": {},
     "output_type": "execute_result"
    }
   ],
   "source": [
    "catalog.unique(['table_id'])"
   ]
  },
  {
   "cell_type": "markdown",
   "metadata": {},
   "source": [
    "Interested in experiment id \"esm-ssp585\""
   ]
  },
  {
   "cell_type": "code",
   "execution_count": 6,
   "metadata": {},
   "outputs": [
    {
     "data": {
      "text/plain": [
       "pangeo-cmip6-ESM Collection with 4 entries:\n",
       "\t> 1 activity_id(s)\n",
       "\n",
       "\t> 2 institution_id(s)\n",
       "\n",
       "\t> 2 source_id(s)\n",
       "\n",
       "\t> 1 experiment_id(s)\n",
       "\n",
       "\t> 3 member_id(s)\n",
       "\n",
       "\t> 1 table_id(s)\n",
       "\n",
       "\t> 1 variable_id(s)\n",
       "\n",
       "\t> 1 grid_label(s)\n",
       "\n",
       "\t> 4 zstore(s)\n",
       "\n",
       "\t> 0 dcpp_init_year(s)"
      ]
     },
     "execution_count": 6,
     "metadata": {},
     "output_type": "execute_result"
    }
   ],
   "source": [
    "sr_esm_nbp = catalog.search(experiment_id='esm-ssp585', variable_id='nbp')\n",
    "sr_esm_nbp"
   ]
  },
  {
   "cell_type": "code",
   "execution_count": 7,
   "metadata": {},
   "outputs": [
    {
     "data": {
      "text/plain": [
       "'gs://cmip6/C4MIP/CCCma/CanESM5/esm-ssp585/r1i1p1f1/Lmon/nbp/gn/'"
      ]
     },
     "execution_count": 7,
     "metadata": {},
     "output_type": "execute_result"
    }
   ],
   "source": [
    "#sr_esm_nbp.df.iloc[0].path # for glade catalog only\n",
    "sr_esm_nbp.df.iloc[0].zstore"
   ]
  },
  {
   "cell_type": "markdown",
   "metadata": {},
   "source": [
    "What models have this output?"
   ]
  },
  {
   "cell_type": "code",
   "execution_count": 9,
   "metadata": {},
   "outputs": [
    {
     "data": {
      "text/plain": [
       "{'source_id': {'count': 2, 'values': ['CanESM5', 'CESM2']}}"
      ]
     },
     "execution_count": 9,
     "metadata": {},
     "output_type": "execute_result"
    }
   ],
   "source": [
    "sr_esm_nbp.unique('source_id')"
   ]
  },
  {
   "cell_type": "code",
   "execution_count": 8,
   "metadata": {},
   "outputs": [
    {
     "data": {
      "text/plain": [
       "{'member_id': {'count': 3, 'values': ['r1i1p1f1', 'r2i1p1f1', 'r3i1p1f1']}}"
      ]
     },
     "execution_count": 8,
     "metadata": {},
     "output_type": "execute_result"
    }
   ],
   "source": [
    "sr_esm_nbp.unique('member_id') # note - not all models have same number of ensemble members"
   ]
  },
  {
   "cell_type": "code",
   "execution_count": 10,
   "metadata": {},
   "outputs": [
    {
     "data": {
      "text/plain": [
       "{'grid_label': {'count': 1, 'values': ['gn']}}"
      ]
     },
     "execution_count": 10,
     "metadata": {},
     "output_type": "execute_result"
    }
   ],
   "source": [
    "sr_esm_nbp.unique('grid_label')"
   ]
  },
  {
   "cell_type": "markdown",
   "metadata": {},
   "source": [
    "Search for fixed variable output (e.g., gridcell area, landfrac) for the same model and first ensemble member"
   ]
  },
  {
   "cell_type": "code",
   "execution_count": 11,
   "metadata": {},
   "outputs": [
    {
     "data": {
      "text/plain": [
       "pangeo-cmip6-ESM Collection with 14 entries:\n",
       "\t> 2 activity_id(s)\n",
       "\n",
       "\t> 2 institution_id(s)\n",
       "\n",
       "\t> 2 source_id(s)\n",
       "\n",
       "\t> 4 experiment_id(s)\n",
       "\n",
       "\t> 1 member_id(s)\n",
       "\n",
       "\t> 1 table_id(s)\n",
       "\n",
       "\t> 4 variable_id(s)\n",
       "\n",
       "\t> 1 grid_label(s)\n",
       "\n",
       "\t> 14 zstore(s)\n",
       "\n",
       "\t> 0 dcpp_init_year(s)"
      ]
     },
     "execution_count": 11,
     "metadata": {},
     "output_type": "execute_result"
    }
   ],
   "source": [
    "sr_fx = catalog.search(table_id = ['fx'], source_id = ['CanESM5','CESM2'], member_id = 'r1i1p1f1')\n",
    "sr_fx"
   ]
  },
  {
   "cell_type": "code",
   "execution_count": 12,
   "metadata": {},
   "outputs": [
    {
     "data": {
      "text/plain": [
       "{'experiment_id': {'count': 4,\n",
       "  'values': ['historical', 'piControl', 'ssp245', 'ssp585']}}"
      ]
     },
     "execution_count": 12,
     "metadata": {},
     "output_type": "execute_result"
    }
   ],
   "source": [
    "sr_fx.unique('experiment_id')"
   ]
  },
  {
   "cell_type": "markdown",
   "metadata": {},
   "source": [
    "Do another search to pick out only one experiment id (use historical for now since it has both area and landfrac)"
   ]
  },
  {
   "cell_type": "code",
   "execution_count": 13,
   "metadata": {},
   "outputs": [
    {
     "data": {
      "text/plain": [
       "pangeo-cmip6-ESM Collection with 8 entries:\n",
       "\t> 1 activity_id(s)\n",
       "\n",
       "\t> 2 institution_id(s)\n",
       "\n",
       "\t> 2 source_id(s)\n",
       "\n",
       "\t> 1 experiment_id(s)\n",
       "\n",
       "\t> 1 member_id(s)\n",
       "\n",
       "\t> 1 table_id(s)\n",
       "\n",
       "\t> 4 variable_id(s)\n",
       "\n",
       "\t> 1 grid_label(s)\n",
       "\n",
       "\t> 8 zstore(s)\n",
       "\n",
       "\t> 0 dcpp_init_year(s)"
      ]
     },
     "execution_count": 13,
     "metadata": {},
     "output_type": "execute_result"
    }
   ],
   "source": [
    "sr_fx_ctrl = catalog.search(table_id = ['fx'], source_id = ['CanESM5','CESM2'], member_id = 'r1i1p1f1', experiment_id = 'historical')\n",
    "sr_fx_ctrl"
   ]
  },
  {
   "cell_type": "code",
   "execution_count": 14,
   "metadata": {},
   "outputs": [
    {
     "data": {
      "text/plain": [
       "{'variable_id': {'count': 4,\n",
       "  'values': ['areacella', 'orog', 'sftgif', 'sftlf']}}"
      ]
     },
     "execution_count": 14,
     "metadata": {},
     "output_type": "execute_result"
    }
   ],
   "source": [
    "sr_fx_ctrl.unique('variable_id')"
   ]
  },
  {
   "cell_type": "markdown",
   "metadata": {},
   "source": [
    "Do another search to subset further - area (areacella) and landfrac (sftlf) only"
   ]
  },
  {
   "cell_type": "code",
   "execution_count": 15,
   "metadata": {},
   "outputs": [
    {
     "data": {
      "text/plain": [
       "pangeo-cmip6-ESM Collection with 4 entries:\n",
       "\t> 1 activity_id(s)\n",
       "\n",
       "\t> 2 institution_id(s)\n",
       "\n",
       "\t> 2 source_id(s)\n",
       "\n",
       "\t> 1 experiment_id(s)\n",
       "\n",
       "\t> 1 member_id(s)\n",
       "\n",
       "\t> 1 table_id(s)\n",
       "\n",
       "\t> 2 variable_id(s)\n",
       "\n",
       "\t> 1 grid_label(s)\n",
       "\n",
       "\t> 4 zstore(s)\n",
       "\n",
       "\t> 0 dcpp_init_year(s)"
      ]
     },
     "execution_count": 15,
     "metadata": {},
     "output_type": "execute_result"
    }
   ],
   "source": [
    "sr_fx_ctrl_vars = catalog.search(table_id = ['fx'], source_id = ['CanESM5','CESM2'], member_id = 'r1i1p1f1', experiment_id = 'historical', variable_id = ['areacella', 'sftlf'])\n",
    "sr_fx_ctrl_vars"
   ]
  },
  {
   "cell_type": "markdown",
   "metadata": {},
   "source": [
    "Check that fx output grid label matches variable output (hopefully good enough to use based on that?)"
   ]
  },
  {
   "cell_type": "code",
   "execution_count": 16,
   "metadata": {},
   "outputs": [
    {
     "data": {
      "text/plain": [
       "{'grid_label': {'count': 1, 'values': ['gn']}}"
      ]
     },
     "execution_count": 16,
     "metadata": {},
     "output_type": "execute_result"
    }
   ],
   "source": [
    "sr_fx_ctrl_vars.unique('grid_label')"
   ]
  },
  {
   "cell_type": "markdown",
   "metadata": {},
   "source": [
    "## Convert fx dataframe to dictionary, keys will be models, datasets will concatenate along ensemble member"
   ]
  },
  {
   "cell_type": "code",
   "execution_count": 17,
   "metadata": {},
   "outputs": [
    {
     "name": "stdout",
     "output_type": "stream",
     "text": [
      "--> The keys in the returned dictionary of datasets are constructed as follows:\n",
      "\t'activity_id.institution_id.source_id.experiment_id.table_id.grid_label'\n",
      "\n",
      "--> There will be 2 group(s)\n"
     ]
    },
    {
     "data": {
      "text/plain": [
       "{'CMIP.CCCma.CanESM5.historical.fx.gn': <xarray.Dataset>\n",
       " Dimensions:    (bnds: 2, lat: 64, lon: 128, member_id: 1)\n",
       " Coordinates:\n",
       "   * lat        (lat) float64 -87.86 -85.1 -82.31 -79.53 ... 82.31 85.1 87.86\n",
       "   * lon        (lon) float64 0.0 2.812 5.625 8.438 ... 348.8 351.6 354.4 357.2\n",
       "   * member_id  (member_id) <U8 'r1i1p1f1'\n",
       " Dimensions without coordinates: bnds\n",
       " Data variables:\n",
       "     lat_bnds   (lat, bnds) float64 dask.array<chunksize=(64, 2), meta=np.ndarray>\n",
       "     lon_bnds   (lon, bnds) float64 dask.array<chunksize=(128, 2), meta=np.ndarray>\n",
       "     areacella  (member_id, lat, lon) float32 dask.array<chunksize=(1, 64, 128), meta=np.ndarray>\n",
       "     type       |S4 ...\n",
       "     sftlf      (member_id, lat, lon) float32 dask.array<chunksize=(1, 64, 128), meta=np.ndarray>\n",
       " Attributes:\n",
       "     source_type:                 AOGCM\n",
       "     initialization_index:        1\n",
       "     activity_id:                 CMIP\n",
       "     tracking_id:                 hdl:21.14100/dd606980-b677-4d42-92fc-b7d0734...\n",
       "     branch_time_in_child:        0.0\n",
       "     CCCma_runid:                 rc3.1-his01\n",
       "     sub_experiment_id:           none\n",
       "     YMDH_branch_time_in_child:   1850:01:01:00\n",
       "     cmor_version:                3.4.0\n",
       "     nominal_resolution:          500 km\n",
       "     table_info:                  Creation Date:(20 February 2019) MD5:374fbe5...\n",
       "     YMDH_branch_time_in_parent:  5201:01:01:00\n",
       "     data_specs_version:          01.00.29\n",
       "     Conventions:                 CF-1.7 CMIP-6.2\n",
       "     forcing_index:               1\n",
       "     frequency:                   fx\n",
       "     version:                     v20190429\n",
       "     mip_era:                     CMIP6\n",
       "     physics_index:               1\n",
       "     product:                     model-output\n",
       "     external_variables:          areacella\n",
       "     license:                     CMIP6 model data produced by The Government ...\n",
       "     parent_variant_label:        r1i1p1f1\n",
       "     further_info_url:            https://furtherinfo.es-doc.org/CMIP6.CCCma.C...\n",
       "     parent_mip_era:              CMIP6\n",
       "     parent_activity_id:          CMIP\n",
       "     CCCma_model_hash:            3dedf95315d603326fde4f5340dc0519d80d10c0\n",
       "     branch_method:               Spin-up documentation\n",
       "     variant_label:               r1i1p1f1\n",
       "     history:                     2019-05-01T18:36:43Z ;rewrote data to be con...\n",
       "     experiment:                  all-forcing simulation of the recent past\n",
       "     references:                  Geophysical Model Development Special issue ...\n",
       "     parent_experiment_id:        piControl\n",
       "     CCCma_pycmor_hash:           33c30511acc319a98240633965a04ca99c26427e\n",
       "     source:                      CanESM5 (2019): \\naerosol: interactive\\natmo...\n",
       "     parent_source_id:            CanESM5\n",
       "     sub_experiment:              none\n",
       "     parent_time_units:           days since 1850-01-01 0:0:0.0\n",
       "     institution_id:              CCCma\n",
       "     branch_time_in_parent:       1223115.0\n",
       "     realm:                       atmos\n",
       "     title:                       CanESM5 output prepared for CMIP6\n",
       "     grid_label:                  gn\n",
       "     realization_index:           1\n",
       "     CCCma_parent_runid:          rc3-pictrl\n",
       "     grid:                        T63L49 native atmosphere, T63 Linear Gaussia...\n",
       "     institution:                 Canadian Centre for Climate Modelling and An...\n",
       "     source_id:                   CanESM5\n",
       "     creation_date:               2019-05-01T18:36:43Z\n",
       "     table_id:                    fx\n",
       "     contact:                     ec.cccma.info-info.ccmac.ec@canada.ca\n",
       "     experiment_id:               historical,\n",
       " 'CMIP.NCAR.CESM2.historical.fx.gn': <xarray.Dataset>\n",
       " Dimensions:    (lat: 192, lon: 288, member_id: 1, nbnd: 2)\n",
       " Coordinates:\n",
       "   * lat        (lat) float64 -90.0 -89.06 -88.12 -87.17 ... 88.12 89.06 90.0\n",
       "   * lon        (lon) float64 0.0 1.25 2.5 3.75 5.0 ... 355.0 356.2 357.5 358.8\n",
       "   * member_id  (member_id) <U8 'r1i1p1f1'\n",
       " Dimensions without coordinates: nbnd\n",
       " Data variables:\n",
       "     lat_bnds   (lat, nbnd) float32 dask.array<chunksize=(192, 2), meta=np.ndarray>\n",
       "     lon_bnds   (lon, nbnd) float32 dask.array<chunksize=(288, 2), meta=np.ndarray>\n",
       "     areacella  (member_id, lat, lon) float32 dask.array<chunksize=(1, 192, 288), meta=np.ndarray>\n",
       "     sftlf      (member_id, lat, lon) float32 dask.array<chunksize=(1, 192, 288), meta=np.ndarray>\n",
       " Attributes:\n",
       "     source_type:            AOGCM BGC\n",
       "     initialization_index:   1\n",
       "     activity_id:            CMIP\n",
       "     tracking_id:            hdl:21.14100/75033260-7bd2-46b9-9d98-3456f176d588...\n",
       "     branch_time_in_child:   674885.0\n",
       "     sub_experiment_id:      none\n",
       "     nominal_resolution:     100 km\n",
       "     data_specs_version:     01.00.29\n",
       "     Conventions:            CF-1.7 CMIP-6.2\n",
       "     forcing_index:          1\n",
       "     frequency:              fx\n",
       "     mip_era:                CMIP6\n",
       "     physics_index:          1\n",
       "     product:                model-output\n",
       "     model_doi_url:          https://doi.org/10.5065/D67H1H0V\n",
       "     external_variables:     areacella\n",
       "     license:                CMIP6 model data produced by <The National Center...\n",
       "     variant_info:           CMIP6 20th century experiments (1850-2014) with C...\n",
       "     parent_variant_label:   r1i1p1f1\n",
       "     further_info_url:       https://furtherinfo.es-doc.org/CMIP6.NCAR.CESM2.h...\n",
       "     parent_mip_era:         CMIP6\n",
       "     parent_activity_id:     CMIP\n",
       "     branch_method:          standard\n",
       "     variant_label:          r1i1p1f1\n",
       "     experiment:             all-forcing simulation of the recent past\n",
       "     parent_experiment_id:   piControl\n",
       "     source:                 CESM2 (2017): atmosphere: CAM6 (0.9x1.25 finite v...\n",
       "     parent_source_id:       CESM2\n",
       "     sub_experiment:         none\n",
       "     parent_time_units:      days since 0001-01-01 00:00:00\n",
       "     institution_id:         NCAR\n",
       "     branch_time_in_parent:  219000.0\n",
       "     grid_label:             gn\n",
       "     realization_index:      1\n",
       "     cesm_casename:          b.e21.BHIST.f09_g17.CMIP6-historical.001\n",
       "     grid:                   native 0.9x1.25 finite volume grid (192x288 latxlon)\n",
       "     case_id:                15\n",
       "     institution:            National Center for Atmospheric Research, Climate...\n",
       "     source_id:              CESM2\n",
       "     table_id:               fx\n",
       "     contact:                cesm_cmip6@ucar.edu\n",
       "     experiment_id:          historical}"
      ]
     },
     "execution_count": 17,
     "metadata": {},
     "output_type": "execute_result"
    }
   ],
   "source": [
    "fx_ds = sr_fx_ctrl_vars.to_dataset_dict()\n",
    "fx_ds"
   ]
  },
  {
   "cell_type": "code",
   "execution_count": 18,
   "metadata": {},
   "outputs": [
    {
     "data": {
      "text/plain": [
       "dict_keys(['CMIP.CCCma.CanESM5.historical.fx.gn', 'CMIP.NCAR.CESM2.historical.fx.gn'])"
      ]
     },
     "execution_count": 18,
     "metadata": {},
     "output_type": "execute_result"
    }
   ],
   "source": [
    "fx_ds.keys()"
   ]
  },
  {
   "cell_type": "code",
   "execution_count": 31,
   "metadata": {},
   "outputs": [
    {
     "data": {
      "text/plain": [
       "array([[[100., 100., 100., ..., 100., 100., 100.],\n",
       "        [100., 100., 100., ..., 100., 100., 100.],\n",
       "        [100., 100., 100., ..., 100., 100., 100.],\n",
       "        ...,\n",
       "        [  0.,   0.,   0., ...,   0.,   0.,   0.],\n",
       "        [  0.,   0.,   0., ...,   0.,   0.,   0.],\n",
       "        [  0.,   0.,   0., ...,   0.,   0.,   0.]]], dtype=float32)"
      ]
     },
     "execution_count": 31,
     "metadata": {},
     "output_type": "execute_result"
    }
   ],
   "source": [
    "fx_ds_cesm = fx_ds['CMIP.NCAR.CESM2.historical.fx.gn']\n",
    "landfrac_cesm = fx_ds_cesm.sftlf\n",
    "area_cesm = fx_ds_cesm.areacella\n",
    "#area_cesm.units # area in m^2\n",
    "#landfrac_cesm.units # landfrac in % so divide by 100 to get frac\n",
    "#landfrac_cesm.values"
   ]
  },
  {
   "cell_type": "code",
   "execution_count": 32,
   "metadata": {},
   "outputs": [],
   "source": [
    "landfrac_cesm_frac = landfrac_cesm / 100\n",
    "#landfrac_cesm_frac.values"
   ]
  },
  {
   "cell_type": "code",
   "execution_count": 35,
   "metadata": {},
   "outputs": [
    {
     "data": {
      "text/plain": [
       "array([[[100., 100., 100., ..., 100., 100., 100.],\n",
       "        [100., 100., 100., ..., 100., 100., 100.],\n",
       "        [100., 100., 100., ..., 100., 100., 100.],\n",
       "        ...,\n",
       "        [  0.,   0.,   0., ...,   0.,   0.,   0.],\n",
       "        [  0.,   0.,   0., ...,   0.,   0.,   0.],\n",
       "        [  0.,   0.,   0., ...,   0.,   0.,   0.]]], dtype=float32)"
      ]
     },
     "execution_count": 35,
     "metadata": {},
     "output_type": "execute_result"
    }
   ],
   "source": [
    "fx_ds_canesm = fx_ds['CMIP.CCCma.CanESM5.historical.fx.gn']\n",
    "landfrac_canesm = fx_ds_canesm.sftlf\n",
    "area_canesm = fx_ds_canesm.areacella\n",
    "#area_canesm.units # area in m^2\n",
    "#landfrac_canesm.units # landfrac in % so divide by 100 to get frac\n",
    "#landfrac_canesm.values"
   ]
  },
  {
   "cell_type": "code",
   "execution_count": 39,
   "metadata": {},
   "outputs": [
    {
     "data": {
      "text/plain": [
       "array([[[1., 1., 1., ..., 1., 1., 1.],\n",
       "        [1., 1., 1., ..., 1., 1., 1.],\n",
       "        [1., 1., 1., ..., 1., 1., 1.],\n",
       "        ...,\n",
       "        [0., 0., 0., ..., 0., 0., 0.],\n",
       "        [0., 0., 0., ..., 0., 0., 0.],\n",
       "        [0., 0., 0., ..., 0., 0., 0.]]], dtype=float32)"
      ]
     },
     "execution_count": 39,
     "metadata": {},
     "output_type": "execute_result"
    }
   ],
   "source": [
    "landfrac_canesm_frac = landfrac_canesm / 100\n",
    "#landfrac_canesm_frac.values"
   ]
  },
  {
   "cell_type": "markdown",
   "metadata": {},
   "source": [
    "## Convert variable search dataframe to dictionary"
   ]
  },
  {
   "cell_type": "code",
   "execution_count": 45,
   "metadata": {},
   "outputs": [
    {
     "name": "stdout",
     "output_type": "stream",
     "text": [
      "--> The keys in the returned dictionary of datasets are constructed as follows:\n",
      "\t'activity_id.institution_id.source_id.experiment_id.table_id.grid_label'\n",
      "\n",
      "--> There will be 2 group(s)\n"
     ]
    }
   ],
   "source": [
    "esm_nbp_ds = sr_esm_nbp.to_dataset_dict()"
   ]
  },
  {
   "cell_type": "code",
   "execution_count": 46,
   "metadata": {},
   "outputs": [
    {
     "data": {
      "text/plain": [
       "{'C4MIP.CCCma.CanESM5.esm-ssp585.Lmon.gn': <xarray.Dataset>\n",
       " Dimensions:    (bnds: 2, lat: 64, lon: 128, member_id: 3, time: 1032)\n",
       " Coordinates:\n",
       "   * time       (time) object 2015-01-16 12:00:00 ... 2100-12-16 12:00:00\n",
       "   * lat        (lat) float64 -87.86 -85.1 -82.31 -79.53 ... 82.31 85.1 87.86\n",
       "   * lon        (lon) float64 0.0 2.812 5.625 8.438 ... 348.8 351.6 354.4 357.2\n",
       "   * member_id  (member_id) <U8 'r1i1p1f1' 'r2i1p1f1' 'r3i1p1f1'\n",
       " Dimensions without coordinates: bnds\n",
       " Data variables:\n",
       "     lat_bnds   (lat, bnds) float64 dask.array<chunksize=(64, 2), meta=np.ndarray>\n",
       "     time_bnds  (time, bnds) object dask.array<chunksize=(1032, 2), meta=np.ndarray>\n",
       "     lon_bnds   (lon, bnds) float64 dask.array<chunksize=(128, 2), meta=np.ndarray>\n",
       "     nbp        (member_id, time, lat, lon) float32 dask.array<chunksize=(1, 1032, 64, 128), meta=np.ndarray>\n",
       " Attributes:\n",
       "     source_type:                 AOGCM\n",
       "     initialization_index:        1\n",
       "     activity_id:                 C4MIP\n",
       "     tracking_id:                 hdl:21.14100/41e260a2-9b69-46ef-be31-9393417...\n",
       "     branch_time_in_child:        60225.0\n",
       "     CCCma_runid:                 rc3.1-fr8503\n",
       "     sub_experiment_id:           none\n",
       "     YMDH_branch_time_in_child:   2015:01:01:00\n",
       "     cmor_version:                3.4.0\n",
       "     nominal_resolution:          500 km\n",
       "     table_info:                  Creation Date:(13 December 2018) MD5:e84cb97...\n",
       "     YMDH_branch_time_in_parent:  2015:01:01:00\n",
       "     data_specs_version:          01.00.29\n",
       "     Conventions:                 CF-1.7 CMIP-6.2\n",
       "     forcing_index:               1\n",
       "     frequency:                   mon\n",
       "     version:                     v20190306\n",
       "     mip_era:                     CMIP6\n",
       "     physics_index:               1\n",
       "     product:                     model-output\n",
       "     external_variables:          areacella\n",
       "     license:                     CMIP6 model data produced by The Government ...\n",
       "     parent_variant_label:        r3i1p1f1\n",
       "     further_info_url:            https://furtherinfo.es-doc.org/CMIP6.CCCma.C...\n",
       "     parent_mip_era:              CMIP6\n",
       "     parent_activity_id:          CMIP\n",
       "     CCCma_model_hash:            6c6e0e9a5315c8d00a66f67e499c4a307e925851\n",
       "     branch_method:               Spin-up documentation\n",
       "     variant_label:               r3i1p1f1\n",
       "     history:                     2019-03-21T03:48:31Z ;rewrote data to be con...\n",
       "     experiment:                  emission-driven RCP8.5 based on SSP5\n",
       "     references:                  Geophysical Model Development Special issue ...\n",
       "     parent_experiment_id:        esm-hist\n",
       "     CCCma_pycmor_hash:           ede3f2879de2f3a9e31994a2934271a68cda1f6a\n",
       "     source:                      CanESM5 (2017): \\naerosol: interactive\\natmo...\n",
       "     parent_source_id:            CanESM5\n",
       "     sub_experiment:              none\n",
       "     variable_id:                 nbp\n",
       "     parent_time_units:           days since 1850-01-01 0:0:0.0\n",
       "     institution_id:              CCCma\n",
       "     branch_time_in_parent:       60225.0\n",
       "     realm:                       land\n",
       "     title:                       CanESM5 output prepared for CMIP6\n",
       "     grid_label:                  gn\n",
       "     realization_index:           3\n",
       "     CCCma_parent_runid:          rc3.1-hfr03\n",
       "     grid:                        T63L49 native atmosphere, T63 Linear Gaussia...\n",
       "     institution:                 Canadian Centre for Climate Modelling and An...\n",
       "     source_id:                   CanESM5\n",
       "     creation_date:               2019-03-21T03:51:46Z\n",
       "     table_id:                    Lmon\n",
       "     contact:                     ec.cccma.info-info.ccmac.ec@canada.ca\n",
       "     experiment_id:               esm-ssp585,\n",
       " 'C4MIP.NCAR.CESM2.esm-ssp585.Lmon.gn': <xarray.Dataset>\n",
       " Dimensions:    (hist_interval: 2, lat: 192, lon: 288, member_id: 1, time: 1032)\n",
       " Coordinates:\n",
       "   * time       (time) object 2015-01-15 11:45:00 ... 2100-12-15 12:00:00\n",
       "   * lat        (lat) float64 -90.0 -89.06 -88.12 -87.17 ... 88.12 89.06 90.0\n",
       "   * lon        (lon) float64 0.0 1.25 2.5 3.75 5.0 ... 355.0 356.2 357.5 358.8\n",
       "   * member_id  (member_id) <U8 'r1i1p1f1'\n",
       " Dimensions without coordinates: hist_interval\n",
       " Data variables:\n",
       "     lat_bnds   (lat, hist_interval) float32 dask.array<chunksize=(192, 2), meta=np.ndarray>\n",
       "     time_bnds  (time, hist_interval) object dask.array<chunksize=(1032, 2), meta=np.ndarray>\n",
       "     lon_bnds   (lon, hist_interval) float32 dask.array<chunksize=(288, 2), meta=np.ndarray>\n",
       "     nbp        (member_id, time, lat, lon) float32 dask.array<chunksize=(1, 1032, 192, 288), meta=np.ndarray>\n",
       " Attributes:\n",
       "     Conventions:            CF-1.7 CMIP-6.2\n",
       "     activity_id:            C4MIP\n",
       "     branch_method:          standard\n",
       "     branch_time_in_child:   735110.0\n",
       "     branch_time_in_parent:  735110.0\n",
       "     case_id:                1525\n",
       "     cesm_casename:          b.e21.BSSP585_BPRPcmip6.f09_g17.CMIP6-esm-ssp585.001\n",
       "     contact:                cesm_cmip6@ucar.edu\n",
       "     creation_date:          2019-05-25T12:00:38Z\n",
       "     data_specs_version:     01.00.30\n",
       "     experiment:             Emission driven future scenario (SSP-based RCP SS...\n",
       "     experiment_id:          esm-ssp585\n",
       "     external_variables:     areacella\n",
       "     forcing_index:          1\n",
       "     frequency:              mon\n",
       "     further_info_url:       https://furtherinfo.es-doc.org/CMIP6.NCAR.CESM2.e...\n",
       "     grid:                   native 0.9x1.25 finite volume grid (192x288 latxlon)\n",
       "     grid_label:             gn\n",
       "     initialization_index:   1\n",
       "     institution:            National Center for Atmospheric Research, Climate...\n",
       "     institution_id:         NCAR\n",
       "     license:                CMIP6 model data produced by <The National Center...\n",
       "     mip_era:                CMIP6\n",
       "     model_doi_url:          https://doi.org/10.5065/D67H1H0V\n",
       "     nominal_resolution:     100 km\n",
       "     parent_activity_id:     CMIP\n",
       "     parent_experiment_id:   esm-hist\n",
       "     parent_mip_era:         CMIP6\n",
       "     parent_source_id:       CESM2\n",
       "     parent_time_units:      days since 0001-01-01 00:00:00\n",
       "     parent_variant_label:   r2i1p1f1\n",
       "     physics_index:          1\n",
       "     product:                model-output\n",
       "     realization_index:      1\n",
       "     realm:                  land\n",
       "     source:                 CESM2 (2017): atmosphere: CAM6 (0.9x1.25 finite v...\n",
       "     source_id:              CESM2\n",
       "     source_type:            AOGCM BGC AER\n",
       "     sub_experiment:         none\n",
       "     sub_experiment_id:      none\n",
       "     table_id:               Lmon\n",
       "     tracking_id:            hdl:21.14100/0a18be7b-7e48-4db5-9262-6af6a2ed00ee...\n",
       "     variable_id:            nbp\n",
       "     variant_info:           CMIP6 esm-ssp585 experiments (2015-2100) with CAM...\n",
       "     variant_label:          r1i1p1f1}"
      ]
     },
     "execution_count": 46,
     "metadata": {},
     "output_type": "execute_result"
    }
   ],
   "source": [
    "esm_nbp_ds"
   ]
  },
  {
   "cell_type": "markdown",
   "metadata": {},
   "source": [
    "What are the dictionary keys?"
   ]
  },
  {
   "cell_type": "code",
   "execution_count": 47,
   "metadata": {},
   "outputs": [
    {
     "data": {
      "text/plain": [
       "dict_keys(['C4MIP.CCCma.CanESM5.esm-ssp585.Lmon.gn', 'C4MIP.NCAR.CESM2.esm-ssp585.Lmon.gn'])"
      ]
     },
     "execution_count": 47,
     "metadata": {},
     "output_type": "execute_result"
    }
   ],
   "source": [
    "esm_nbp_ds.keys()"
   ]
  },
  {
   "cell_type": "markdown",
   "metadata": {},
   "source": [
    "Access dataset from dictionary using appropriate key"
   ]
  },
  {
   "cell_type": "code",
   "execution_count": 65,
   "metadata": {},
   "outputs": [
    {
     "data": {
      "text/plain": [
       "array([[[[ 0.,  0.,  0., ...,  0.,  0.,  0.],\n",
       "         [ 0.,  0.,  0., ...,  0.,  0.,  0.],\n",
       "         [ 0.,  0.,  0., ...,  0.,  0.,  0.],\n",
       "         ...,\n",
       "         [nan, nan, nan, ..., nan, nan, nan],\n",
       "         [nan, nan, nan, ..., nan, nan, nan],\n",
       "         [nan, nan, nan, ..., nan, nan, nan]],\n",
       "\n",
       "        [[ 0.,  0.,  0., ...,  0.,  0.,  0.],\n",
       "         [ 0.,  0.,  0., ...,  0.,  0.,  0.],\n",
       "         [ 0.,  0.,  0., ...,  0.,  0.,  0.],\n",
       "         ...,\n",
       "         [nan, nan, nan, ..., nan, nan, nan],\n",
       "         [nan, nan, nan, ..., nan, nan, nan],\n",
       "         [nan, nan, nan, ..., nan, nan, nan]],\n",
       "\n",
       "        [[ 0.,  0.,  0., ...,  0.,  0.,  0.],\n",
       "         [ 0.,  0.,  0., ...,  0.,  0.,  0.],\n",
       "         [ 0.,  0.,  0., ...,  0.,  0.,  0.],\n",
       "         ...,\n",
       "         [nan, nan, nan, ..., nan, nan, nan],\n",
       "         [nan, nan, nan, ..., nan, nan, nan],\n",
       "         [nan, nan, nan, ..., nan, nan, nan]],\n",
       "\n",
       "        ...,\n",
       "\n",
       "        [[ 0.,  0.,  0., ...,  0.,  0.,  0.],\n",
       "         [ 0.,  0.,  0., ...,  0.,  0.,  0.],\n",
       "         [ 0.,  0.,  0., ...,  0.,  0.,  0.],\n",
       "         ...,\n",
       "         [nan, nan, nan, ..., nan, nan, nan],\n",
       "         [nan, nan, nan, ..., nan, nan, nan],\n",
       "         [nan, nan, nan, ..., nan, nan, nan]],\n",
       "\n",
       "        [[ 0.,  0.,  0., ...,  0.,  0.,  0.],\n",
       "         [ 0.,  0.,  0., ...,  0.,  0.,  0.],\n",
       "         [ 0.,  0.,  0., ...,  0.,  0.,  0.],\n",
       "         ...,\n",
       "         [nan, nan, nan, ..., nan, nan, nan],\n",
       "         [nan, nan, nan, ..., nan, nan, nan],\n",
       "         [nan, nan, nan, ..., nan, nan, nan]],\n",
       "\n",
       "        [[ 0.,  0.,  0., ...,  0.,  0.,  0.],\n",
       "         [ 0.,  0.,  0., ...,  0.,  0.,  0.],\n",
       "         [ 0.,  0.,  0., ...,  0.,  0.,  0.],\n",
       "         ...,\n",
       "         [nan, nan, nan, ..., nan, nan, nan],\n",
       "         [nan, nan, nan, ..., nan, nan, nan],\n",
       "         [nan, nan, nan, ..., nan, nan, nan]]]], dtype=float32)"
      ]
     },
     "execution_count": 65,
     "metadata": {},
     "output_type": "execute_result"
    }
   ],
   "source": [
    "nbp_ds_canesm = esm_nbp_ds['C4MIP.CCCma.CanESM5.esm-ssp585.Lmon.gn']\n",
    "nbp_canesm = nbp_ds_canesm.nbp\n",
    "nbp_cesm = esm_nbp_ds['C4MIP.NCAR.CESM2.esm-ssp585.Lmon.gn'].nbp\n",
    "#nbp_cesm.units\n",
    "#nbp_cesm.values"
   ]
  },
  {
   "cell_type": "markdown",
   "metadata": {},
   "source": [
    "## Plotting NBP so far"
   ]
  },
  {
   "cell_type": "code",
   "execution_count": 49,
   "metadata": {},
   "outputs": [],
   "source": [
    "import xarray as xr\n",
    "import numpy as np\n",
    "import matplotlib.pyplot as plt"
   ]
  },
  {
   "cell_type": "code",
   "execution_count": 50,
   "metadata": {},
   "outputs": [],
   "source": [
    "def weighted_annual_mean(array):\n",
    "    mon_day  = xr.DataArray(np.array([31,28,31,30,31,30,31,31,30,31,30,31]), dims=['month'])\n",
    "    mon_wgt  = mon_day/mon_day.sum()\n",
    "    return (array.rolling(time=12, center=False) # rolling\n",
    "            .construct(\"month\") # construct the array\n",
    "            .isel(time=slice(11, None, 12)) # slice so that the first element is [1..12], second is [13..24]\n",
    "            .dot(mon_wgt, dims=[\"month\"]))"
   ]
  },
  {
   "cell_type": "code",
   "execution_count": 58,
   "metadata": {},
   "outputs": [
    {
     "data": {
      "text/plain": [
       "<xarray.DataArray (member_id: 3, time: 86, lat: 64, lon: 128)>\n",
       "dask.array<mul, shape=(3, 86, 64, 128), dtype=float64, chunksize=(1, 86, 64, 128), chunktype=numpy.ndarray>\n",
       "Coordinates:\n",
       "  * time       (time) object 2015-12-16 12:00:00 ... 2100-12-16 12:00:00\n",
       "  * lat        (lat) float64 -87.86 -85.1 -82.31 -79.53 ... 82.31 85.1 87.86\n",
       "  * lon        (lon) float64 0.0 2.812 5.625 8.438 ... 348.8 351.6 354.4 357.2\n",
       "  * member_id  (member_id) <U8 'r1i1p1f1' 'r2i1p1f1' 'r3i1p1f1'\n",
       "Attributes:\n",
       "    units:    kgC m-2 y-1"
      ]
     },
     "execution_count": 58,
     "metadata": {},
     "output_type": "execute_result"
    }
   ],
   "source": [
    "spy = 365 * 24 * 3600  # Convert  to annual fluxes (kgC/m2/y), from kgC/m2/s \n",
    "nbp_canesm_amean = weighted_annual_mean(nbp_canesm) * spy\n",
    "nbp_canesm_amean.attrs['units'] = 'kgC m-2 y-1'\n",
    "nbp_canesm_amean # 3 ensemble members for CanESM"
   ]
  },
  {
   "cell_type": "code",
   "execution_count": 83,
   "metadata": {},
   "outputs": [
    {
     "data": {
      "text/plain": [
       "<xarray.DataArray 'lat' (lat: 192)>\n",
       "array([-90.      , -89.057594, -88.115181, -87.172775, -86.23037 , -85.287956,\n",
       "       -84.345551, -83.403145, -82.460732, -81.518326, -80.575912, -79.633507,\n",
       "       -78.691101, -77.748688, -76.806282, -75.863876, -74.921463, -73.979057,\n",
       "       -73.036652, -72.094238, -71.151833, -70.209427, -69.267014, -68.324608,\n",
       "       -67.382202, -66.439789, -65.497383, -64.554977, -63.612564, -62.670158,\n",
       "       -61.727749, -60.785339, -59.842934, -58.900524, -57.958115, -57.015705,\n",
       "       -56.073299, -55.13089 , -54.18848 , -53.246075, -52.303665, -51.361256,\n",
       "       -50.41885 , -49.47644 , -48.534031, -47.591621, -46.649216, -45.706806,\n",
       "       -44.764397, -43.821991, -42.879581, -41.937172, -40.994766, -40.052357,\n",
       "       -39.109947, -38.167538, -37.225132, -36.282722, -35.340313, -34.397907,\n",
       "       -33.455498, -32.513088, -31.570681, -30.628273, -29.685863, -28.743456,\n",
       "       -27.801046, -26.858639, -25.916231, -24.973822, -24.031414, -23.089005,\n",
       "       -22.146597, -21.204189, -20.26178 , -19.319372, -18.376963, -17.434555,\n",
       "       -16.492147, -15.549738, -14.607329, -13.664922, -12.722513, -11.780105,\n",
       "       -10.837696,  -9.895288,  -8.95288 ,  -8.010471,  -7.068063,  -6.125654,\n",
       "        -5.183246,  -4.240838,  -3.298429,  -2.356021,  -1.413613,  -0.471204,\n",
       "         0.471204,   1.413613,   2.356021,   3.298429,   4.240838,   5.183246,\n",
       "         6.125654,   7.068063,   8.010471,   8.95288 ,   9.895288,  10.837696,\n",
       "        11.780105,  12.722513,  13.664922,  14.607329,  15.549738,  16.492147,\n",
       "        17.434555,  18.376963,  19.319372,  20.26178 ,  21.204189,  22.146597,\n",
       "        23.089005,  24.031414,  24.973822,  25.916231,  26.858639,  27.801046,\n",
       "        28.743456,  29.685863,  30.628273,  31.570681,  32.513088,  33.455498,\n",
       "        34.397907,  35.340313,  36.282722,  37.225132,  38.167538,  39.109947,\n",
       "        40.052357,  40.994766,  41.937172,  42.879581,  43.821991,  44.764397,\n",
       "        45.706806,  46.649216,  47.591621,  48.534031,  49.47644 ,  50.41885 ,\n",
       "        51.361256,  52.303665,  53.246075,  54.18848 ,  55.13089 ,  56.073299,\n",
       "        57.015705,  57.958115,  58.900524,  59.842934,  60.785339,  61.727749,\n",
       "        62.670158,  63.612564,  64.554977,  65.497383,  66.439789,  67.382202,\n",
       "        68.324608,  69.267014,  70.209427,  71.151833,  72.094238,  73.036652,\n",
       "        73.979057,  74.921463,  75.863876,  76.806282,  77.748688,  78.691101,\n",
       "        79.633507,  80.575912,  81.518326,  82.460732,  83.403145,  84.345551,\n",
       "        85.287956,  86.23037 ,  87.172775,  88.115181,  89.057594,  90.      ])\n",
       "Coordinates:\n",
       "  * lat      (lat) float64 -90.0 -89.06 -88.12 -87.17 ... 87.17 88.12 89.06 90.0\n",
       "Attributes:\n",
       "    axis:           Y\n",
       "    bounds:         lat_bnds\n",
       "    standard_name:  latitude\n",
       "    title:          Latitude\n",
       "    type:           double\n",
       "    units:          degrees_north\n",
       "    valid_max:      90.0\n",
       "    valid_min:      -90.0"
      ]
     },
     "execution_count": 83,
     "metadata": {},
     "output_type": "execute_result"
    }
   ],
   "source": [
    "nbp_cesm_amean = weighted_annual_mean(nbp_cesm) * spy\n",
    "nbp_cesm_amean.attrs['units'] = 'kgC m-2 y-1'\n",
    "nbp_cesm_amean.lat # single ensemble member for CESM"
   ]
  },
  {
   "cell_type": "markdown",
   "metadata": {},
   "source": [
    "### Making weights for global sums"
   ]
  },
  {
   "cell_type": "code",
   "execution_count": 82,
   "metadata": {},
   "outputs": [
    {
     "name": "stdout",
     "output_type": "stream",
     "text": [
      "<xarray.DataArray 'lat' (lat: 192)>\n",
      "array([-90.      , -89.057592, -88.115183, -87.172775, -86.230366, -85.287958,\n",
      "       -84.34555 , -83.403141, -82.460733, -81.518325, -80.575916, -79.633508,\n",
      "       -78.691099, -77.748691, -76.806283, -75.863874, -74.921466, -73.979058,\n",
      "       -73.036649, -72.094241, -71.151832, -70.209424, -69.267016, -68.324607,\n",
      "       -67.382199, -66.439791, -65.497382, -64.554974, -63.612565, -62.670157,\n",
      "       -61.727749, -60.78534 , -59.842932, -58.900524, -57.958115, -57.015707,\n",
      "       -56.073298, -55.13089 , -54.188482, -53.246073, -52.303665, -51.361257,\n",
      "       -50.418848, -49.47644 , -48.534031, -47.591623, -46.649215, -45.706806,\n",
      "       -44.764398, -43.82199 , -42.879581, -41.937173, -40.994764, -40.052356,\n",
      "       -39.109948, -38.167539, -37.225131, -36.282723, -35.340314, -34.397906,\n",
      "       -33.455497, -32.513089, -31.570681, -30.628272, -29.685864, -28.743455,\n",
      "       -27.801047, -26.858639, -25.91623 , -24.973822, -24.031414, -23.089005,\n",
      "       -22.146597, -21.204188, -20.26178 , -19.319372, -18.376963, -17.434555,\n",
      "       -16.492147, -15.549738, -14.60733 , -13.664921, -12.722513, -11.780105,\n",
      "       -10.837696,  -9.895288,  -8.95288 ,  -8.010471,  -7.068063,  -6.125654,\n",
      "        -5.183246,  -4.240838,  -3.298429,  -2.356021,  -1.413613,  -0.471204,\n",
      "         0.471204,   1.413613,   2.356021,   3.298429,   4.240838,   5.183246,\n",
      "         6.125654,   7.068063,   8.010471,   8.95288 ,   9.895288,  10.837696,\n",
      "        11.780105,  12.722513,  13.664921,  14.60733 ,  15.549738,  16.492147,\n",
      "        17.434555,  18.376963,  19.319372,  20.26178 ,  21.204188,  22.146597,\n",
      "        23.089005,  24.031414,  24.973822,  25.91623 ,  26.858639,  27.801047,\n",
      "        28.743455,  29.685864,  30.628272,  31.570681,  32.513089,  33.455497,\n",
      "        34.397906,  35.340314,  36.282723,  37.225131,  38.167539,  39.109948,\n",
      "        40.052356,  40.994764,  41.937173,  42.879581,  43.82199 ,  44.764398,\n",
      "        45.706806,  46.649215,  47.591623,  48.534031,  49.47644 ,  50.418848,\n",
      "        51.361257,  52.303665,  53.246073,  54.188482,  55.13089 ,  56.073298,\n",
      "        57.015707,  57.958115,  58.900524,  59.842932,  60.78534 ,  61.727749,\n",
      "        62.670157,  63.612565,  64.554974,  65.497382,  66.439791,  67.382199,\n",
      "        68.324607,  69.267016,  70.209424,  71.151832,  72.094241,  73.036649,\n",
      "        73.979058,  74.921466,  75.863874,  76.806283,  77.748691,  78.691099,\n",
      "        79.633508,  80.575916,  81.518325,  82.460733,  83.403141,  84.34555 ,\n",
      "        85.287958,  86.230366,  87.172775,  88.115183,  89.057592,  90.      ])\n",
      "Coordinates:\n",
      "  * lat      (lat) float64 -90.0 -89.06 -88.12 -87.17 ... 87.17 88.12 89.06 90.0\n",
      "Attributes:\n",
      "    axis:           Y\n",
      "    bounds:         lat_bnds\n",
      "    standard_name:  latitude\n",
      "    title:          Latitude\n",
      "    type:           double\n",
      "    units:          degrees_north\n",
      "    valid_max:      90.0\n",
      "    valid_min:      -90.0\n"
     ]
    }
   ],
   "source": [
    "landUp_cesm = area_cesm * landfrac_cesm_frac\n",
    "print(landUp_cesm.lat)\n",
    "area_wgt_cesm = landUp_cesm / landUp_cesm.sum()    # weighting for each grid cell\n",
    "#area_wgt_cesm"
   ]
  },
  {
   "cell_type": "code",
   "execution_count": 54,
   "metadata": {},
   "outputs": [
    {
     "data": {
      "text/plain": [
       "<xarray.DataArray (member_id: 1, lat: 64, lon: 128)>\n",
       "dask.array<truediv, shape=(1, 64, 128), dtype=float32, chunksize=(1, 64, 128), chunktype=numpy.ndarray>\n",
       "Coordinates:\n",
       "  * lat        (lat) float64 -87.86 -85.1 -82.31 -79.53 ... 82.31 85.1 87.86\n",
       "  * lon        (lon) float64 0.0 2.812 5.625 8.438 ... 348.8 351.6 354.4 357.2\n",
       "  * member_id  (member_id) <U8 'r1i1p1f1'"
      ]
     },
     "execution_count": 54,
     "metadata": {},
     "output_type": "execute_result"
    }
   ],
   "source": [
    "landUp_canesm = area_canesm * landfrac_canesm_frac\n",
    "area_wgt_canesm = landUp_canesm / landUp_canesm.sum()\n",
    "area_wgt_canesm"
   ]
  },
  {
   "cell_type": "markdown",
   "metadata": {},
   "source": [
    "### Global sum"
   ]
  },
  {
   "cell_type": "code",
   "execution_count": 81,
   "metadata": {},
   "outputs": [
    {
     "ename": "ValueError",
     "evalue": "indexes along dimension 'lat' are not equal",
     "output_type": "error",
     "traceback": [
      "\u001b[0;31m---------------------------------------------------------------------------\u001b[0m",
      "\u001b[0;31mValueError\u001b[0m                                Traceback (most recent call last)",
      "\u001b[0;32m<ipython-input-81-77856aae1d06>\u001b[0m in \u001b[0;36m<module>\u001b[0;34m\u001b[0m\n\u001b[1;32m      1\u001b[0m \u001b[0;31m#mean_wgt_cesm = nbp_cesm_amean * landUp_cesm\u001b[0m\u001b[0;34m\u001b[0m\u001b[0;34m\u001b[0m\u001b[0;34m\u001b[0m\u001b[0m\n\u001b[0;32m----> 2\u001b[0;31m \u001b[0mmean_wgt_cesm\u001b[0m \u001b[0;34m=\u001b[0m \u001b[0mnbp_cesm_amean\u001b[0m\u001b[0;34m.\u001b[0m\u001b[0mdot\u001b[0m\u001b[0;34m(\u001b[0m\u001b[0mlandUp_cesm\u001b[0m\u001b[0;34m)\u001b[0m\u001b[0;34m\u001b[0m\u001b[0;34m\u001b[0m\u001b[0m\n\u001b[0m\u001b[1;32m      3\u001b[0m \u001b[0mprint\u001b[0m\u001b[0;34m(\u001b[0m\u001b[0mmean_wgt_cesm\u001b[0m\u001b[0;34m)\u001b[0m\u001b[0;34m\u001b[0m\u001b[0;34m\u001b[0m\u001b[0m\n\u001b[1;32m      4\u001b[0m \u001b[0;31m#ann_glob_cesm = mean_wgt_cesm.sum(dim=('lat','lon')) * 1e-15 #convert to Pg/y\u001b[0m\u001b[0;34m\u001b[0m\u001b[0;34m\u001b[0m\u001b[0;34m\u001b[0m\u001b[0m\n\u001b[1;32m      5\u001b[0m \u001b[0;31m#ann_glob_cesm.attrs['units'] = 'Pg C y^-1'\u001b[0m\u001b[0;34m\u001b[0m\u001b[0;34m\u001b[0m\u001b[0;34m\u001b[0m\u001b[0m\n",
      "\u001b[0;32m/ncar/usr/jupyterhub/envs/cmip6-201910a/lib/python3.7/site-packages/xarray/core/dataarray.py\u001b[0m in \u001b[0;36mdot\u001b[0;34m(self, other, dims)\u001b[0m\n\u001b[1;32m   2786\u001b[0m             \u001b[0;32mraise\u001b[0m \u001b[0mTypeError\u001b[0m\u001b[0;34m(\u001b[0m\u001b[0;34m\"dot only operates on DataArrays.\"\u001b[0m\u001b[0;34m)\u001b[0m\u001b[0;34m\u001b[0m\u001b[0;34m\u001b[0m\u001b[0m\n\u001b[1;32m   2787\u001b[0m \u001b[0;34m\u001b[0m\u001b[0m\n\u001b[0;32m-> 2788\u001b[0;31m         \u001b[0;32mreturn\u001b[0m \u001b[0mcomputation\u001b[0m\u001b[0;34m.\u001b[0m\u001b[0mdot\u001b[0m\u001b[0;34m(\u001b[0m\u001b[0mself\u001b[0m\u001b[0;34m,\u001b[0m \u001b[0mother\u001b[0m\u001b[0;34m,\u001b[0m \u001b[0mdims\u001b[0m\u001b[0;34m=\u001b[0m\u001b[0mdims\u001b[0m\u001b[0;34m)\u001b[0m\u001b[0;34m\u001b[0m\u001b[0;34m\u001b[0m\u001b[0m\n\u001b[0m\u001b[1;32m   2789\u001b[0m \u001b[0;34m\u001b[0m\u001b[0m\n\u001b[1;32m   2790\u001b[0m     def sortby(\n",
      "\u001b[0;32m/ncar/usr/jupyterhub/envs/cmip6-201910a/lib/python3.7/site-packages/xarray/core/computation.py\u001b[0m in \u001b[0;36mdot\u001b[0;34m(dims, *arrays, **kwargs)\u001b[0m\n\u001b[1;32m   1176\u001b[0m         \u001b[0minput_core_dims\u001b[0m\u001b[0;34m=\u001b[0m\u001b[0minput_core_dims\u001b[0m\u001b[0;34m,\u001b[0m\u001b[0;34m\u001b[0m\u001b[0;34m\u001b[0m\u001b[0m\n\u001b[1;32m   1177\u001b[0m         \u001b[0moutput_core_dims\u001b[0m\u001b[0;34m=\u001b[0m\u001b[0moutput_core_dims\u001b[0m\u001b[0;34m,\u001b[0m\u001b[0;34m\u001b[0m\u001b[0;34m\u001b[0m\u001b[0m\n\u001b[0;32m-> 1178\u001b[0;31m         \u001b[0mdask\u001b[0m\u001b[0;34m=\u001b[0m\u001b[0;34m\"allowed\"\u001b[0m\u001b[0;34m\u001b[0m\u001b[0;34m\u001b[0m\u001b[0m\n\u001b[0m\u001b[1;32m   1179\u001b[0m     )\n\u001b[1;32m   1180\u001b[0m     \u001b[0;32mreturn\u001b[0m \u001b[0mresult\u001b[0m\u001b[0;34m.\u001b[0m\u001b[0mtranspose\u001b[0m\u001b[0;34m(\u001b[0m\u001b[0;34m*\u001b[0m\u001b[0;34m[\u001b[0m\u001b[0md\u001b[0m \u001b[0;32mfor\u001b[0m \u001b[0md\u001b[0m \u001b[0;32min\u001b[0m \u001b[0mall_dims\u001b[0m \u001b[0;32mif\u001b[0m \u001b[0md\u001b[0m \u001b[0;32min\u001b[0m \u001b[0mresult\u001b[0m\u001b[0;34m.\u001b[0m\u001b[0mdims\u001b[0m\u001b[0;34m]\u001b[0m\u001b[0;34m)\u001b[0m\u001b[0;34m\u001b[0m\u001b[0;34m\u001b[0m\u001b[0m\n",
      "\u001b[0;32m/ncar/usr/jupyterhub/envs/cmip6-201910a/lib/python3.7/site-packages/xarray/core/computation.py\u001b[0m in \u001b[0;36mapply_ufunc\u001b[0;34m(func, input_core_dims, output_core_dims, exclude_dims, vectorize, join, dataset_join, dataset_fill_value, keep_attrs, kwargs, dask, output_dtypes, output_sizes, *args)\u001b[0m\n\u001b[1;32m   1042\u001b[0m             \u001b[0mjoin\u001b[0m\u001b[0;34m=\u001b[0m\u001b[0mjoin\u001b[0m\u001b[0;34m,\u001b[0m\u001b[0;34m\u001b[0m\u001b[0;34m\u001b[0m\u001b[0m\n\u001b[1;32m   1043\u001b[0m             \u001b[0mexclude_dims\u001b[0m\u001b[0;34m=\u001b[0m\u001b[0mexclude_dims\u001b[0m\u001b[0;34m,\u001b[0m\u001b[0;34m\u001b[0m\u001b[0;34m\u001b[0m\u001b[0m\n\u001b[0;32m-> 1044\u001b[0;31m             \u001b[0mkeep_attrs\u001b[0m\u001b[0;34m=\u001b[0m\u001b[0mkeep_attrs\u001b[0m\u001b[0;34m\u001b[0m\u001b[0;34m\u001b[0m\u001b[0m\n\u001b[0m\u001b[1;32m   1045\u001b[0m         )\n\u001b[1;32m   1046\u001b[0m     \u001b[0;32melif\u001b[0m \u001b[0many\u001b[0m\u001b[0;34m(\u001b[0m\u001b[0misinstance\u001b[0m\u001b[0;34m(\u001b[0m\u001b[0ma\u001b[0m\u001b[0;34m,\u001b[0m \u001b[0mVariable\u001b[0m\u001b[0;34m)\u001b[0m \u001b[0;32mfor\u001b[0m \u001b[0ma\u001b[0m \u001b[0;32min\u001b[0m \u001b[0margs\u001b[0m\u001b[0;34m)\u001b[0m\u001b[0;34m:\u001b[0m\u001b[0;34m\u001b[0m\u001b[0;34m\u001b[0m\u001b[0m\n",
      "\u001b[0;32m/ncar/usr/jupyterhub/envs/cmip6-201910a/lib/python3.7/site-packages/xarray/core/computation.py\u001b[0m in \u001b[0;36mapply_dataarray_vfunc\u001b[0;34m(func, signature, join, exclude_dims, keep_attrs, *args)\u001b[0m\n\u001b[1;32m    222\u001b[0m     \u001b[0;32mif\u001b[0m \u001b[0mlen\u001b[0m\u001b[0;34m(\u001b[0m\u001b[0margs\u001b[0m\u001b[0;34m)\u001b[0m \u001b[0;34m>\u001b[0m \u001b[0;36m1\u001b[0m\u001b[0;34m:\u001b[0m\u001b[0;34m\u001b[0m\u001b[0;34m\u001b[0m\u001b[0m\n\u001b[1;32m    223\u001b[0m         args = deep_align(\n\u001b[0;32m--> 224\u001b[0;31m             \u001b[0margs\u001b[0m\u001b[0;34m,\u001b[0m \u001b[0mjoin\u001b[0m\u001b[0;34m=\u001b[0m\u001b[0mjoin\u001b[0m\u001b[0;34m,\u001b[0m \u001b[0mcopy\u001b[0m\u001b[0;34m=\u001b[0m\u001b[0;32mFalse\u001b[0m\u001b[0;34m,\u001b[0m \u001b[0mexclude\u001b[0m\u001b[0;34m=\u001b[0m\u001b[0mexclude_dims\u001b[0m\u001b[0;34m,\u001b[0m \u001b[0mraise_on_invalid\u001b[0m\u001b[0;34m=\u001b[0m\u001b[0;32mFalse\u001b[0m\u001b[0;34m\u001b[0m\u001b[0;34m\u001b[0m\u001b[0m\n\u001b[0m\u001b[1;32m    225\u001b[0m         )\n\u001b[1;32m    226\u001b[0m \u001b[0;34m\u001b[0m\u001b[0m\n",
      "\u001b[0;32m/ncar/usr/jupyterhub/envs/cmip6-201910a/lib/python3.7/site-packages/xarray/core/alignment.py\u001b[0m in \u001b[0;36mdeep_align\u001b[0;34m(objects, join, copy, indexes, exclude, raise_on_invalid, fill_value)\u001b[0m\n\u001b[1;32m    403\u001b[0m         \u001b[0mindexes\u001b[0m\u001b[0;34m=\u001b[0m\u001b[0mindexes\u001b[0m\u001b[0;34m,\u001b[0m\u001b[0;34m\u001b[0m\u001b[0;34m\u001b[0m\u001b[0m\n\u001b[1;32m    404\u001b[0m         \u001b[0mexclude\u001b[0m\u001b[0;34m=\u001b[0m\u001b[0mexclude\u001b[0m\u001b[0;34m,\u001b[0m\u001b[0;34m\u001b[0m\u001b[0;34m\u001b[0m\u001b[0m\n\u001b[0;32m--> 405\u001b[0;31m         \u001b[0mfill_value\u001b[0m\u001b[0;34m=\u001b[0m\u001b[0mfill_value\u001b[0m\u001b[0;34m\u001b[0m\u001b[0;34m\u001b[0m\u001b[0m\n\u001b[0m\u001b[1;32m    406\u001b[0m     )\n\u001b[1;32m    407\u001b[0m \u001b[0;34m\u001b[0m\u001b[0m\n",
      "\u001b[0;32m/ncar/usr/jupyterhub/envs/cmip6-201910a/lib/python3.7/site-packages/xarray/core/alignment.py\u001b[0m in \u001b[0;36malign\u001b[0;34m(join, copy, indexes, exclude, fill_value, *objects)\u001b[0m\n\u001b[1;32m    296\u001b[0m                 \u001b[0;32mif\u001b[0m \u001b[0mjoin\u001b[0m \u001b[0;34m==\u001b[0m \u001b[0;34m\"exact\"\u001b[0m\u001b[0;34m:\u001b[0m\u001b[0;34m\u001b[0m\u001b[0;34m\u001b[0m\u001b[0m\n\u001b[1;32m    297\u001b[0m                     raise ValueError(\n\u001b[0;32m--> 298\u001b[0;31m                         \u001b[0;34m\"indexes along dimension {!r} are not equal\"\u001b[0m\u001b[0;34m.\u001b[0m\u001b[0mformat\u001b[0m\u001b[0;34m(\u001b[0m\u001b[0mdim\u001b[0m\u001b[0;34m)\u001b[0m\u001b[0;34m\u001b[0m\u001b[0;34m\u001b[0m\u001b[0m\n\u001b[0m\u001b[1;32m    299\u001b[0m                     )\n\u001b[1;32m    300\u001b[0m                 \u001b[0mindex\u001b[0m \u001b[0;34m=\u001b[0m \u001b[0mjoiner\u001b[0m\u001b[0;34m(\u001b[0m\u001b[0mmatching_indexes\u001b[0m\u001b[0;34m)\u001b[0m\u001b[0;34m\u001b[0m\u001b[0;34m\u001b[0m\u001b[0m\n",
      "\u001b[0;31mValueError\u001b[0m: indexes along dimension 'lat' are not equal"
     ]
    }
   ],
   "source": [
    "#mean_wgt_cesm = nbp_cesm_amean * landUp_cesm\n",
    "mean_wgt_cesm = nbp_cesm_amean.dot(landUp_cesm)\n",
    "print(mean_wgt_cesm)\n",
    "#ann_glob_cesm = mean_wgt_cesm.sum(dim=('lat','lon')) * 1e-15 #convert to Pg/y\n",
    "#ann_glob_cesm.attrs['units'] = 'Pg C y^-1'\n",
    "#print(ann_glob_cesm.values)"
   ]
  },
  {
   "cell_type": "code",
   "execution_count": 59,
   "metadata": {},
   "outputs": [
    {
     "name": "stdout",
     "output_type": "stream",
     "text": [
      "<xarray.DataArray (member_id: 1, time: 86)>\n",
      "dask.array<mul, shape=(1, 86), dtype=float64, chunksize=(1, 86), chunktype=numpy.ndarray>\n",
      "Coordinates:\n",
      "  * member_id  (member_id) object 'r1i1p1f1'\n",
      "  * time       (time) object 2015-12-16 12:00:00 ... 2100-12-16 12:00:00\n",
      "Attributes:\n",
      "    units:    Pg C y^-1\n"
     ]
    }
   ],
   "source": [
    "mean_wgt_canesm = nbp_canesm_amean * landUp_canesm # this gets rid of the second two ensemble members - how to preserve?\n",
    "ann_glob_canesm = mean_wgt_canesm.sum(dim=('lat','lon')) * 1e-15 #convert to Pg/y\n",
    "ann_glob_canesm.attrs['units'] = 'Pg C y^-1'\n",
    "print(ann_glob_canesm)"
   ]
  },
  {
   "cell_type": "markdown",
   "metadata": {},
   "source": [
    "### Make a line plot"
   ]
  },
  {
   "cell_type": "code",
   "execution_count": 61,
   "metadata": {},
   "outputs": [
    {
     "data": {
      "image/png": "[encoded data removed]",
      "text/plain": [
       "<Figure size 720x432 with 1 Axes>"
      ]
     },
     "metadata": {
      "needs_background": "light"
     },
     "output_type": "display_data"
    }
   ],
   "source": [
    "fig = plt.figure(figsize=(10, 6))\n",
    "\n",
    "# Ask, out of a 1x1 grid, the first axes.\n",
    "ax = fig.add_subplot(1, 1, 1)\n",
    "\n",
    "# Plot times as x-variable and temperatures as y-variable\n",
    "ax.plot(ann_glob_cesm.coords['time.year'], ann_glob_cesm[0,:], label='cesm')\n",
    "# Add some labels to the plot\n",
    "ax.set_xlabel('Time')\n",
    "ax.set_ylabel('NBP'+' (' + ann_glob_cesm.attrs['units'] +')')\n",
    "ax.set_title('NBP', fontdict={'size':16})\n",
    "ax.legend(loc='upper left');"
   ]
  },
  {
   "cell_type": "code",
   "execution_count": 117,
   "metadata": {},
   "outputs": [
    {
     "data": {
      "text/plain": [
       "<matplotlib.colorbar.Colorbar at 0x7f0e2316cf60>"
      ]
     },
     "execution_count": 117,
     "metadata": {},
     "output_type": "execute_result"
    },
    {
     "data": {
      "image/png": "[encoded data removed]",
      "text/plain": [
       "<Figure size 432x288 with 2 Axes>"
      ]
     },
     "metadata": {
      "needs_background": "light"
     },
     "output_type": "display_data"
    }
   ],
   "source": [
    "plt.contourf(amean[0,0,:,:])\n",
    "plt.colorbar()"
   ]
  },
  {
   "cell_type": "code",
   "execution_count": 115,
   "metadata": {},
   "outputs": [
    {
     "data": {
      "text/plain": [
       "[<matplotlib.lines.Line2D at 0x7f0e2332fe48>]"
      ]
     },
     "execution_count": 115,
     "metadata": {},
     "output_type": "execute_result"
    },
    {
     "data": {
      "image/png": "[encoded data removed]",
      "text/plain": [
       "<Figure size 432x288 with 1 Axes>"
      ]
     },
     "metadata": {
      "needs_background": "light"
     },
     "output_type": "display_data"
    }
   ],
   "source": [
    "plt.plot(amean[0,:,0,0])\n",
    "plt.plot(amean[1,:,0,0])"
   ]
  },
  {
   "cell_type": "code",
   "execution_count": 101,
   "metadata": {},
   "outputs": [
    {
     "ename": "AttributeError",
     "evalue": "'DataArray' object has no attribute 'apply'",
     "output_type": "error",
     "traceback": [
      "\u001b[0;31m---------------------------------------------------------------------------\u001b[0m",
      "\u001b[0;31mAttributeError\u001b[0m                            Traceback (most recent call last)",
      "\u001b[0;32m<ipython-input-101-4b265443e73f>\u001b[0m in \u001b[0;36m<module>\u001b[0;34m\u001b[0m\n\u001b[1;32m      1\u001b[0m \u001b[0mspy\u001b[0m \u001b[0;34m=\u001b[0m \u001b[0;36m365\u001b[0m \u001b[0;34m*\u001b[0m \u001b[0;36m24\u001b[0m \u001b[0;34m*\u001b[0m \u001b[0;36m3600\u001b[0m  \u001b[0;31m# Convert  to annual fluxes (kgC/m2/y), from kgC/m2/s\u001b[0m\u001b[0;34m\u001b[0m\u001b[0;34m\u001b[0m\u001b[0m\n\u001b[0;32m----> 2\u001b[0;31m \u001b[0mmean_dataset\u001b[0m \u001b[0;34m=\u001b[0m \u001b[0mda\u001b[0m\u001b[0;34m.\u001b[0m\u001b[0mapply\u001b[0m\u001b[0;34m(\u001b[0m\u001b[0mweighted_annual_mean\u001b[0m\u001b[0;34m)\u001b[0m \u001b[0;34m*\u001b[0m \u001b[0mspy\u001b[0m\u001b[0;34m\u001b[0m\u001b[0;34m\u001b[0m\u001b[0m\n\u001b[0m\u001b[1;32m      3\u001b[0m \u001b[0mmean_dataset\u001b[0m\u001b[0;34m.\u001b[0m\u001b[0mattrs\u001b[0m\u001b[0;34m[\u001b[0m\u001b[0;34m'units'\u001b[0m\u001b[0;34m]\u001b[0m \u001b[0;34m=\u001b[0m \u001b[0;34m'kgC m-2 y-1'\u001b[0m\u001b[0;34m\u001b[0m\u001b[0;34m\u001b[0m\u001b[0m\n",
      "\u001b[0;32m/glade/work/kdagon/miniconda/envs/cmip6/lib/python3.7/site-packages/xarray/core/common.py\u001b[0m in \u001b[0;36m__getattr__\u001b[0;34m(self, name)\u001b[0m\n\u001b[1;32m    226\u001b[0m                     \u001b[0;32mreturn\u001b[0m \u001b[0msource\u001b[0m\u001b[0;34m[\u001b[0m\u001b[0mname\u001b[0m\u001b[0;34m]\u001b[0m\u001b[0;34m\u001b[0m\u001b[0;34m\u001b[0m\u001b[0m\n\u001b[1;32m    227\u001b[0m         raise AttributeError(\n\u001b[0;32m--> 228\u001b[0;31m             \u001b[0;34m\"%r object has no attribute %r\"\u001b[0m \u001b[0;34m%\u001b[0m \u001b[0;34m(\u001b[0m\u001b[0mtype\u001b[0m\u001b[0;34m(\u001b[0m\u001b[0mself\u001b[0m\u001b[0;34m)\u001b[0m\u001b[0;34m.\u001b[0m\u001b[0m__name__\u001b[0m\u001b[0;34m,\u001b[0m \u001b[0mname\u001b[0m\u001b[0;34m)\u001b[0m\u001b[0;34m\u001b[0m\u001b[0;34m\u001b[0m\u001b[0m\n\u001b[0m\u001b[1;32m    229\u001b[0m         )\n\u001b[1;32m    230\u001b[0m \u001b[0;34m\u001b[0m\u001b[0m\n",
      "\u001b[0;31mAttributeError\u001b[0m: 'DataArray' object has no attribute 'apply'"
     ]
    }
   ],
   "source": [
    "spy = 365 * 24 * 3600  # Convert  to annual fluxes (kgC/m2/y), from kgC/m2/s \n",
    "mean_dataset = da.apply(weighted_annual_mean) * spy\n",
    "mean_dataset.attrs['units'] = 'kgC m-2 y-1'"
   ]
  },
  {
   "cell_type": "code",
   "execution_count": null,
   "metadata": {},
   "outputs": [],
   "source": []
  }
 ],
 "metadata": {
  "kernelspec": {
   "display_name": "CMIP6 2019.10a",
   "language": "python",
   "name": "cmip6-201910a"
  },
  "language_info": {
   "codemirror_mode": {
    "name": "ipython",
    "version": 3
   },
   "file_extension": ".py",
   "mimetype": "text/x-python",
   "name": "python",
   "nbconvert_exporter": "python",
   "pygments_lexer": "ipython3",
   "version": "3.7.3"
  }
 },
 "nbformat": 4,
 "nbformat_minor": 4
}
